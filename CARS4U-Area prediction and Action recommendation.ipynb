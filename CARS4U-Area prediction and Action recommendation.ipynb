{
    "nbformat_minor": 1, 
    "cells": [
        {
            "source": "<table style=\"border: none\" align=\"left\">\n    <tr style=\"border: none\">\n       <th style=\"border: none\"><img src=\"https://raw.githubusercontent.com/pmservice/cars-4-you/master/static/images/logo.png\" width=\"200\" alt=\"Icon\"></th>\n       <th style=\"border: none\"><font face=\"verdana\" size=\"5\" color=\"black\"><b>Business Area prediction and Action recommendation</b></th>\n   </tr>\n</table>", 
            "cell_type": "markdown", 
            "metadata": {}
        }, 
        {
            "source": "<img align=left src=\"https://github.com/pmservice/cars-4-you/raw/master/static/images/action.png\" width=\"550\" alt=\"Icon\">", 
            "cell_type": "markdown", 
            "metadata": {}
        }, 
        {
            "source": "Contents\n- [0. Setup](#setup)\n- [1. Introduction](#introduction)\n- [2. Load and explore data](#load)\n- [3. Create an Apache Spark machine learning model](#model)\n- [4. Store the model in the Watson Machine Learning repository](#persistence)\n- [5. Download the model](#download)\n- [6. Deploy the model in the IBM Cloud](#persistence)\n- [7. Score the model](#score)", 
            "cell_type": "markdown", 
            "metadata": {}
        }, 
        {
            "source": "**Note:** This notebook works correctly with kernel `Python 3.5 with Spark 2.1`.", 
            "cell_type": "markdown", 
            "metadata": {}
        }, 
        {
            "source": "<a id=\"setup\"></a>\n## 0. Setup\n\nIn this section please use below cell to upgrade the `watson-machine-learning-client`.", 
            "cell_type": "markdown", 
            "metadata": {}
        }, 
        {
            "execution_count": 1, 
            "cell_type": "code", 
            "metadata": {}, 
            "outputs": [
                {
                    "output_type": "stream", 
                    "name": "stdout", 
                    "text": "Collecting watson-machine-learning-client\n\u001b[?25l  Downloading https://files.pythonhosted.org/packages/f6/f3/cebff2ea1088a7aca0c728c6704dc7fa1a0d592d9a989bf7cf11c5644d07/watson_machine_learning_client-1.0.333-py3-none-any.whl (932kB)\n\u001b[K    100% |\u2588\u2588\u2588\u2588\u2588\u2588\u2588\u2588\u2588\u2588\u2588\u2588\u2588\u2588\u2588\u2588\u2588\u2588\u2588\u2588\u2588\u2588\u2588\u2588\u2588\u2588\u2588\u2588\u2588\u2588\u2588\u2588| 942kB 3.6MB/s eta 0:00:01\n\u001b[?25hRequirement not upgraded as not directly required: tqdm in /gpfs/global_fs01/sym_shared/YPProdSpark/user/s86b-18e61b28c674e4-3fbaf243aed6/.local/lib/python3.5/site-packages (from watson-machine-learning-client) (4.23.4)\nRequirement not upgraded as not directly required: tabulate in /gpfs/global_fs01/sym_shared/YPProdSpark/user/s86b-18e61b28c674e4-3fbaf243aed6/.local/lib/python3.5/site-packages (from watson-machine-learning-client) (0.8.2)\nRequirement not upgraded as not directly required: urllib3 in /gpfs/global_fs01/sym_shared/YPProdSpark/user/s86b-18e61b28c674e4-3fbaf243aed6/.local/lib/python3.5/site-packages (from watson-machine-learning-client) (1.23)\nRequirement not upgraded as not directly required: certifi in /gpfs/global_fs01/sym_shared/YPProdSpark/user/s86b-18e61b28c674e4-3fbaf243aed6/.local/lib/python3.5/site-packages (from watson-machine-learning-client) (2018.4.16)\nRequirement not upgraded as not directly required: pandas in /gpfs/global_fs01/sym_shared/YPProdSpark/user/s86b-18e61b28c674e4-3fbaf243aed6/.local/lib/python3.5/site-packages (from watson-machine-learning-client) (0.23.1)\nRequirement not upgraded as not directly required: lomond in /gpfs/global_fs01/sym_shared/YPProdSpark/user/s86b-18e61b28c674e4-3fbaf243aed6/.local/lib/python3.5/site-packages (from watson-machine-learning-client) (0.3.1)\nRequirement not upgraded as not directly required: ibm-cos-sdk in /gpfs/global_fs01/sym_shared/YPProdSpark/user/s86b-18e61b28c674e4-3fbaf243aed6/.local/lib/python3.5/site-packages (from watson-machine-learning-client) (2.1.1)\nRequirement not upgraded as not directly required: requests in /gpfs/global_fs01/sym_shared/YPProdSpark/user/s86b-18e61b28c674e4-3fbaf243aed6/.local/lib/python3.5/site-packages (from watson-machine-learning-client) (2.19.1)\nRequirement not upgraded as not directly required: pytz>=2011k in /gpfs/global_fs01/sym_shared/YPProdSpark/user/s86b-18e61b28c674e4-3fbaf243aed6/.local/lib/python3.5/site-packages (from pandas->watson-machine-learning-client) (2018.4)\nRequirement not upgraded as not directly required: numpy>=1.9.0 in /gpfs/global_fs01/sym_shared/YPProdSpark/user/s86b-18e61b28c674e4-3fbaf243aed6/.local/lib/python3.5/site-packages (from pandas->watson-machine-learning-client) (1.14.5)\nRequirement not upgraded as not directly required: python-dateutil>=2.5.0 in /gpfs/global_fs01/sym_shared/YPProdSpark/user/s86b-18e61b28c674e4-3fbaf243aed6/.local/lib/python3.5/site-packages (from pandas->watson-machine-learning-client) (2.7.3)\nRequirement not upgraded as not directly required: six>=1.10.0 in /gpfs/global_fs01/sym_shared/YPProdSpark/user/s86b-18e61b28c674e4-3fbaf243aed6/.local/lib/python3.5/site-packages (from lomond->watson-machine-learning-client) (1.11.0)\nRequirement not upgraded as not directly required: ibm-cos-sdk-core==2.*,>=2.0.0 in /gpfs/global_fs01/sym_shared/YPProdSpark/user/s86b-18e61b28c674e4-3fbaf243aed6/.local/lib/python3.5/site-packages (from ibm-cos-sdk->watson-machine-learning-client) (2.1.1)\nRequirement not upgraded as not directly required: ibm-cos-sdk-s3transfer==2.*,>=2.0.0 in /gpfs/global_fs01/sym_shared/YPProdSpark/user/s86b-18e61b28c674e4-3fbaf243aed6/.local/lib/python3.5/site-packages (from ibm-cos-sdk->watson-machine-learning-client) (2.1.1)\nRequirement not upgraded as not directly required: chardet<3.1.0,>=3.0.2 in /gpfs/global_fs01/sym_shared/YPProdSpark/user/s86b-18e61b28c674e4-3fbaf243aed6/.local/lib/python3.5/site-packages (from requests->watson-machine-learning-client) (3.0.4)\nRequirement not upgraded as not directly required: idna<2.8,>=2.5 in /gpfs/global_fs01/sym_shared/YPProdSpark/user/s86b-18e61b28c674e4-3fbaf243aed6/.local/lib/python3.5/site-packages (from requests->watson-machine-learning-client) (2.7)\nRequirement not upgraded as not directly required: docutils>=0.10 in /usr/local/src/conda3_runtime.v46/home/envs/DSX-Python35-Spark/lib/python3.5/site-packages (from ibm-cos-sdk-core==2.*,>=2.0.0->ibm-cos-sdk->watson-machine-learning-client) (0.14)\nRequirement not upgraded as not directly required: jmespath<1.0.0,>=0.7.1 in /usr/local/src/conda3_runtime.v46/home/envs/DSX-Python35-Spark/lib/python3.5/site-packages (from ibm-cos-sdk-core==2.*,>=2.0.0->ibm-cos-sdk->watson-machine-learning-client) (0.9.3)\n\u001b[31mtensorflow 1.3.0 requires tensorflow-tensorboard<0.2.0,>=0.1.0, which is not installed.\u001b[0m\nInstalling collected packages: watson-machine-learning-client\n  Found existing installation: watson-machine-learning-client 1.0.331\n    Uninstalling watson-machine-learning-client-1.0.331:\n      Successfully uninstalled watson-machine-learning-client-1.0.331\nSuccessfully installed watson-machine-learning-client-1.0.333\n"
                }
            ], 
            "source": "!rm -rf $PIP_BUILD\n!pip install --upgrade watson-machine-learning-client"
        }, 
        {
            "source": "**Note**: Please restart the kernel (Kernel -> Restart)", 
            "cell_type": "markdown", 
            "metadata": {}
        }, 
        {
            "source": "<a id=\"introduction\"></a>\n## 1. Introduction\n\nThis notebook defines, trains and deploys the model that recommends specific Action for unstatisfied customers.", 
            "cell_type": "markdown", 
            "metadata": {}
        }, 
        {
            "source": "<a id=\"load\"></a>\n## 2. Load and explore data", 
            "cell_type": "markdown", 
            "metadata": {}
        }, 
        {
            "source": "In this section you will load the data as an Apache Spark DataFrame and perform a basic exploration.", 
            "cell_type": "markdown", 
            "metadata": {}
        }, 
        {
            "source": "Read data into Spark DataFrame from DB2 database and show sample record.", 
            "cell_type": "markdown", 
            "metadata": {}
        }, 
        {
            "source": "### Load data", 
            "cell_type": "markdown", 
            "metadata": {}
        }, 
        {
            "source": "**TIP:** Put your service credentials here. Just copy paste content of Credentials tab from service details (IBM Cloud)", 
            "cell_type": "markdown", 
            "metadata": {}
        }, 
        {
            "execution_count": 2, 
            "cell_type": "code", 
            "metadata": {}, 
            "outputs": [], 
            "source": "db2_service_credentials = {\n  \"username\": \"***\",\n  \"ssljdbcurl\": \"***\",\n  \"host\": \"***\",\n  \"https_url\": \"***\",\n  \"dsn\": \"***\",\n  \"hostname\": \"***\",\n  \"jdbcurl\": \"***\",\n  \"ssldsn\": \"***\",\n  \"uri\": \"***\",\n  \"password\": \"***\"\n}"
        }, 
        {
            "execution_count": 13, 
            "cell_type": "code", 
            "metadata": {}, 
            "outputs": [], 
            "source": "# The code was removed by Watson Studio for sharing."
        }, 
        {
            "execution_count": 14, 
            "cell_type": "code", 
            "metadata": {}, 
            "outputs": [], 
            "source": "properties_db2 = {\n    'driver': 'com.ibm.db2.jcc.DB2Driver',\n    'jdbcurl': db2_service_credentials['jdbcurl'],\n    'user': db2_service_credentials['username'],\n    'password': db2_service_credentials['password']\n}"
        }, 
        {
            "execution_count": 15, 
            "cell_type": "code", 
            "metadata": {}, 
            "outputs": [
                {
                    "execution_count": 15, 
                    "metadata": {}, 
                    "data": {
                        "text/plain": "Row(ID=10, Gender='Male', Status='M', Children=1, Age=Decimal('46.000000'), Customer_Status='Inactive', Car_Owner='Yes', Customer_Service='They did not have the car I wanted.  upgraded me to a car I did not like and did not want.', Satisfaction=0, Business_Area='Product: Availability/Variety/Size', Action='Free Upgrade')"
                    }, 
                    "output_type": "execute_result"
                }
            ], 
            "source": "from pyspark.sql import SparkSession\nimport json\n\nspark = SparkSession.builder.getOrCreate()\ntable_name = 'CAR_RENTAL_TRAINING'\ndf_data = spark.read.jdbc(properties_db2['jdbcurl'], table='.'.join([properties_db2['user'], table_name]), properties=properties_db2)\ndf_data.head()"
        }, 
        {
            "source": "### Explore data", 
            "cell_type": "markdown", 
            "metadata": {}
        }, 
        {
            "execution_count": 16, 
            "cell_type": "code", 
            "metadata": {}, 
            "outputs": [
                {
                    "output_type": "stream", 
                    "name": "stdout", 
                    "text": "root\n |-- ID: integer (nullable = true)\n |-- Gender: string (nullable = true)\n |-- Status: string (nullable = true)\n |-- Children: integer (nullable = true)\n |-- Age: decimal(14,6) (nullable = true)\n |-- Customer_Status: string (nullable = true)\n |-- Car_Owner: string (nullable = true)\n |-- Customer_Service: string (nullable = true)\n |-- Satisfaction: integer (nullable = true)\n |-- Business_Area: string (nullable = true)\n |-- Action: string (nullable = true)\n\n"
                }
            ], 
            "source": "df_data.printSchema()"
        }, 
        {
            "source": "**Tip:** Code above can be inserted using Data menu.  You have to select `Insert SparkSession DataFrame` option.\n\n**Note:** Inserted code is modified to work with code in cells below.", 
            "cell_type": "markdown", 
            "metadata": {}
        }, 
        {
            "source": "As you can see, the data contains eleven fields. `Action` field is the one you would like to predict using feedback data in `Customer_Service` field.", 
            "cell_type": "markdown", 
            "metadata": {}
        }, 
        {
            "execution_count": 17, 
            "cell_type": "code", 
            "metadata": {}, 
            "outputs": [
                {
                    "output_type": "stream", 
                    "name": "stdout", 
                    "text": "Number of records: 243\n"
                }
            ], 
            "source": "print(\"Number of records: \" + str(df_data.count()))"
        }, 
        {
            "execution_count": 18, 
            "cell_type": "code", 
            "metadata": {}, 
            "outputs": [
                {
                    "output_type": "stream", 
                    "name": "stdout", 
                    "text": "+----------------------------------+-----+\n|Business_area                     |count|\n+----------------------------------+-----+\n|Service: Accessibility            |13   |\n|Product: Functioning              |75   |\n|Service: Attitude                 |12   |\n|Service: Orders/Contracts         |16   |\n|Product: Availability/Variety/Size|21   |\n|Product: Pricing and Billing      |12   |\n|Product: Information              |4    |\n|Service: Knowledge                |90   |\n+----------------------------------+-----+\n\n"
                }
            ], 
            "source": "df_data.select('Business_area').groupBy('Business_area').count().show(truncate=False)"
        }, 
        {
            "execution_count": 19, 
            "cell_type": "code", 
            "metadata": {}, 
            "outputs": [
                {
                    "output_type": "stream", 
                    "name": "stdout", 
                    "text": "+-------------------------+-----+\n|Action                   |count|\n+-------------------------+-----+\n|NA                       |137  |\n|Voucher                  |21   |\n|Premium features         |15   |\n|On-demand pickup location|28   |\n|Free Upgrade             |42   |\n+-------------------------+-----+\n\n"
                }
            ], 
            "source": "df_data.select('Action').groupBy('Action').count().show(truncate=False)"
        }, 
        {
            "source": "<a id=\"model\"></a>\n## 3. Create an Apache Spark machine learning model\n\nIn this section you will learn how to:\n\n- [3.1 Prepare data for training a model](#prep)\n- [3.2 Create an Apache Spark machine learning pipeline](#pipe)\n- [3.3 Train a model](#train)", 
            "cell_type": "markdown", 
            "metadata": {}
        }, 
        {
            "source": "<a id=\"prep\"></a>\n### 3.1 Prepare data for training a model\n\nIn this subsection you will split your data into: train and test data set.", 
            "cell_type": "markdown", 
            "metadata": {}
        }, 
        {
            "execution_count": 20, 
            "cell_type": "code", 
            "metadata": {}, 
            "outputs": [
                {
                    "output_type": "stream", 
                    "name": "stdout", 
                    "text": "Number of training records: 200\nNumber of testing records : 43\n"
                }
            ], 
            "source": "train_data, test_data = df_data.randomSplit([0.8, 0.2], 24)\n\nprint(\"Number of training records: \" + str(train_data.count()))\nprint(\"Number of testing records : \" + str(test_data.count()))"
        }, 
        {
            "source": "### 3.2 Create the pipeline<a id=\"pipe\"></a>", 
            "cell_type": "markdown", 
            "metadata": {}
        }, 
        {
            "source": "In this section you will create an Apache Spark machine learning pipeline and then train the model.", 
            "cell_type": "markdown", 
            "metadata": {}
        }, 
        {
            "execution_count": 21, 
            "cell_type": "code", 
            "metadata": {}, 
            "outputs": [], 
            "source": "from pyspark.ml.feature import OneHotEncoder, StringIndexer, IndexToString, VectorAssembler, HashingTF, IDF, Tokenizer, SQLTransformer\nfrom pyspark.ml.classification import RandomForestClassifier, DecisionTreeClassifier, LogisticRegression\nfrom pyspark.ml.evaluation import MulticlassClassificationEvaluator\nfrom pyspark.ml import Pipeline, Model, PipelineModel"
        }, 
        {
            "source": "In the following step, use the StringIndexer transformer to convert all the string fields to numeric ones.", 
            "cell_type": "markdown", 
            "metadata": {}
        }, 
        {
            "execution_count": 22, 
            "cell_type": "code", 
            "metadata": {}, 
            "outputs": [], 
            "source": "tokenizer = Tokenizer(inputCol=\"Customer_Service\", outputCol=\"words\")"
        }, 
        {
            "execution_count": 23, 
            "cell_type": "code", 
            "metadata": {}, 
            "outputs": [], 
            "source": "hashing_tf = HashingTF(inputCol=tokenizer.getOutputCol(), outputCol='hash')\nidf = IDF(inputCol=hashing_tf.getOutputCol(), outputCol=\"area_features\", minDocFreq=5)"
        }, 
        {
            "execution_count": 24, 
            "cell_type": "code", 
            "metadata": {}, 
            "outputs": [], 
            "source": "string_indexer_area = StringIndexer(inputCol=\"Business_Area\", outputCol=\"area_label\").fit(df_data)"
        }, 
        {
            "execution_count": 25, 
            "cell_type": "code", 
            "metadata": {}, 
            "outputs": [], 
            "source": "dt_area = DecisionTreeClassifier(labelCol='area_label', featuresCol=idf.getOutputCol() , predictionCol='prediction_area', probabilityCol='probability_area', rawPredictionCol='rawPrediction_area')"
        }, 
        {
            "source": "Finally, convert the indexed labels back to original labels.", 
            "cell_type": "markdown", 
            "metadata": {}
        }, 
        {
            "execution_count": 26, 
            "cell_type": "code", 
            "metadata": {}, 
            "outputs": [], 
            "source": "labelConverter = IndexToString(inputCol=\"prediction_area\", outputCol=\"predictedAreaLabel\", labels=string_indexer_area.labels)"
        }, 
        {
            "execution_count": 27, 
            "cell_type": "code", 
            "metadata": {}, 
            "outputs": [], 
            "source": "string_indexer_gender = StringIndexer(inputCol=\"Gender\", outputCol=\"gender_ix\")\nstring_indexer_customer_status = StringIndexer(inputCol=\"Customer_Status\", outputCol=\"customer_status_ix\")\nstring_indexer_status = StringIndexer(inputCol=\"Status\", outputCol=\"status_ix\")\nstring_indexer_owner = StringIndexer(inputCol=\"Car_Owner\", outputCol=\"owner_ix\")"
        }, 
        {
            "execution_count": 28, 
            "cell_type": "code", 
            "metadata": {}, 
            "outputs": [], 
            "source": "assembler = VectorAssembler(inputCols=[\"gender_ix\", \"customer_status_ix\", \"status_ix\", \"owner_ix\", \"Children\", \"Age\", \"Satisfaction\", idf.getOutputCol()], outputCol=\"features\")"
        }, 
        {
            "execution_count": 29, 
            "cell_type": "code", 
            "metadata": {}, 
            "outputs": [], 
            "source": "string_indexer_action = StringIndexer(inputCol=\"Action\", outputCol=\"label\").fit(df_data)"
        }, 
        {
            "execution_count": 30, 
            "cell_type": "code", 
            "metadata": {}, 
            "outputs": [], 
            "source": "label_action_converter = IndexToString(inputCol=\"prediction\", outputCol=\"predictedActionLabel\", labels=string_indexer_action.labels)"
        }, 
        {
            "execution_count": 31, 
            "cell_type": "code", 
            "metadata": {}, 
            "outputs": [], 
            "source": "dt_action = DecisionTreeClassifier()"
        }, 
        {
            "execution_count": 32, 
            "cell_type": "code", 
            "metadata": {}, 
            "outputs": [], 
            "source": "vector_assembler = VectorAssembler(inputCols=[\"gender_ix\", \"customer_status_ix\", \"status_ix\", \"owner_ix\", \"Children\", \"Age\", \"Satisfaction\", 'prediction_area'], outputCol=\"features\")"
        }, 
        {
            "execution_count": 33, 
            "cell_type": "code", 
            "metadata": {}, 
            "outputs": [], 
            "source": "pipeline = Pipeline(stages=[tokenizer, hashing_tf, idf, string_indexer_area, dt_area, labelConverter, string_indexer_gender, string_indexer_customer_status, string_indexer_status, string_indexer_action, string_indexer_owner, vector_assembler, dt_action, label_action_converter])"
        }, 
        {
            "execution_count": 34, 
            "cell_type": "code", 
            "metadata": {}, 
            "outputs": [
                {
                    "execution_count": 34, 
                    "metadata": {}, 
                    "data": {
                        "text/plain": "['NA',\n 'Free Upgrade',\n 'On-demand pickup location',\n 'Voucher',\n 'Premium features']"
                    }, 
                    "output_type": "execute_result"
                }
            ], 
            "source": "string_indexer_action.labels"
        }, 
        {
            "source": "### 3.3 Train the model", 
            "cell_type": "markdown", 
            "metadata": {}
        }, 
        {
            "execution_count": 35, 
            "cell_type": "code", 
            "metadata": {}, 
            "outputs": [], 
            "source": "model = pipeline.fit(train_data)"
        }, 
        {
            "source": "### 3.4 Evaluate the model", 
            "cell_type": "markdown", 
            "metadata": {}
        }, 
        {
            "execution_count": 36, 
            "cell_type": "code", 
            "metadata": {}, 
            "outputs": [], 
            "source": "predictions = model.transform(test_data)"
        }, 
        {
            "execution_count": 37, 
            "cell_type": "code", 
            "metadata": {}, 
            "outputs": [
                {
                    "output_type": "stream", 
                    "name": "stdout", 
                    "text": "Accuracy = 0.744186\n"
                }
            ], 
            "source": "evaluator = MulticlassClassificationEvaluator(labelCol=\"label\", predictionCol=\"prediction\", metricName=\"accuracy\")\naccuracy = evaluator.evaluate(predictions)\n\nprint(\"Accuracy = %g\" % accuracy)"
        }, 
        {
            "source": "<a id=\"persistence\"></a>\n## 4. Store the model in the repository", 
            "cell_type": "markdown", 
            "metadata": {
                "collapsed": true
            }
        }, 
        {
            "source": "In this section you will store trained model to Watson Machine Learning repository. When model is stored some metada is optional, however we provide it to be able to configure Continuous Learning System.", 
            "cell_type": "markdown", 
            "metadata": {
                "collapsed": true
            }
        }, 
        {
            "execution_count": 38, 
            "cell_type": "code", 
            "metadata": {}, 
            "outputs": [
                {
                    "output_type": "stream", 
                    "name": "stderr", 
                    "text": "2018-10-22 06:59:13,232 - watson_machine_learning_client.metanames - WARNING - 'AUTHOR_EMAIL' meta prop is deprecated. It will be ignored.\n"
                }
            ], 
            "source": "from watson_machine_learning_client import WatsonMachineLearningAPIClient"
        }, 
        {
            "source": "We need Watson Machine Learning credentials to be able to store model in repository.", 
            "cell_type": "markdown", 
            "metadata": {}
        }, 
        {
            "source": "**TIP:** Put watson Machine Learning service credentials here.", 
            "cell_type": "markdown", 
            "metadata": {}
        }, 
        {
            "execution_count": 39, 
            "cell_type": "code", 
            "metadata": {}, 
            "outputs": [], 
            "source": "wml_credentials = {\n  \"apikey\": \"***\",\n  \"iam_apikey_description\": \"***\",\n  \"iam_apikey_name\": \"***\",\n  \"iam_role_crn\": \"***\",\n  \"iam_serviceid_crn\": \"***\",\n  \"instance_id\": \"***\",\n  \"password\": \"***\",\n  \"url\": \"https://us-south.ml.cloud.ibm.com\",\n  \"username\": \"***\"\n}"
        }, 
        {
            "execution_count": 40, 
            "cell_type": "code", 
            "metadata": {}, 
            "outputs": [], 
            "source": "# The code was removed by Watson Studio for sharing."
        }, 
        {
            "execution_count": 41, 
            "cell_type": "code", 
            "metadata": {}, 
            "outputs": [], 
            "source": "client = WatsonMachineLearningAPIClient(wml_credentials)"
        }, 
        {
            "execution_count": 42, 
            "cell_type": "code", 
            "metadata": {}, 
            "outputs": [
                {
                    "execution_count": 42, 
                    "metadata": {}, 
                    "data": {
                        "text/plain": "'1.0.331'"
                    }, 
                    "output_type": "execute_result"
                }
            ], 
            "source": "client.version"
        }, 
        {
            "source": "### 4.2 Save the pipeline and model<a id=\"save\"></a>", 
            "cell_type": "markdown", 
            "metadata": {}
        }, 
        {
            "execution_count": 43, 
            "cell_type": "code", 
            "metadata": {}, 
            "outputs": [], 
            "source": "training_data_reference = {\n \"name\": \"CARS4U training reference\",\n \"connection\": db2_service_credentials,\n \"source\": {\n  \"tablename\": table_name,\n  \"type\": \"dashdb\"\n }\n}"
        }, 
        {
            "source": "Define `output_data_schema` for the model", 
            "cell_type": "markdown", 
            "metadata": {}
        }, 
        {
            "execution_count": 44, 
            "cell_type": "code", 
            "metadata": {}, 
            "outputs": [], 
            "source": "train_data_schema = train_data.schema\nlabel_field = next(f for f in train_data_schema.fields if f.name == \"Action\")\nlabel_field.metadata['values'] = string_indexer_action.labels"
        }, 
        {
            "execution_count": 45, 
            "cell_type": "code", 
            "metadata": {}, 
            "outputs": [], 
            "source": "from pyspark.sql.types import *\n\ninput_fileds = filter(lambda f: f.name != \"Action\", train_data_schema.fields)\n\noutput_data_schema = StructType(list(input_fileds)). \\\n    add(\"prediction\", DoubleType(), True, {'modeling_role': 'prediction'}). \\\n    add(\"predictedLabel\", StringType(), True, {'modeling_role': 'decoded-target', 'values': string_indexer_action.labels}). \\\n    add(\"probability\", ArrayType(DoubleType()), True, {'modeling_role': 'probability'})"
        }, 
        {
            "source": "print(json.dumps(output_schema.jsonValue(), indent=2))", 
            "cell_type": "raw", 
            "metadata": {}
        }, 
        {
            "source": "Define model's metadata.", 
            "cell_type": "markdown", 
            "metadata": {}
        }, 
        {
            "execution_count": 46, 
            "cell_type": "code", 
            "metadata": {}, 
            "outputs": [], 
            "source": "model_props = {\n    client.repository.ModelMetaNames.NAME: \"CARS4U - Action Recommendation Model\",\n    client.repository.ModelMetaNames.TRAINING_DATA_REFERENCE: training_data_reference,\n    client.repository.ModelMetaNames.EVALUATION_METHOD: \"multiclass\",\n    client.repository.ModelMetaNames.OUTPUT_DATA_SCHEMA: output_data_schema.jsonValue(),\n    client.repository.ModelMetaNames.EVALUATION_METRICS: [\n        {\n           \"name\": \"accuracy\",\n           \"value\": accuracy,\n           \"threshold\": 0.7\n        }\n    ]\n}"
        }, 
        {
            "source": "**Tip**: Use `client.repository.ModelMetaNames.show()` to get the list of available meta names.", 
            "cell_type": "markdown", 
            "metadata": {}
        }, 
        {
            "source": "Store the model.", 
            "cell_type": "markdown", 
            "metadata": {}
        }, 
        {
            "execution_count": 47, 
            "cell_type": "code", 
            "metadata": {}, 
            "outputs": [], 
            "source": "published_model_details = client.repository.store_model(model=model, meta_props=model_props, training_data=train_data, pipeline=pipeline)"
        }, 
        {
            "execution_count": 48, 
            "cell_type": "code", 
            "metadata": {}, 
            "outputs": [
                {
                    "output_type": "stream", 
                    "name": "stdout", 
                    "text": "c49c9543-0662-422e-8d6b-2869a04a2d03\n"
                }
            ], 
            "source": "model_uid = client.repository.get_model_uid(published_model_details)\nprint(model_uid)"
        }, 
        {
            "execution_count": 49, 
            "cell_type": "code", 
            "metadata": {}, 
            "outputs": [], 
            "source": "model_details = client.repository.get_model_details(model_uid)"
        }, 
        {
            "source": "<a id=\"download\"></a>\n## 5. Download the model", 
            "cell_type": "markdown", 
            "metadata": {}
        }, 
        {
            "execution_count": 50, 
            "cell_type": "code", 
            "metadata": {}, 
            "outputs": [], 
            "source": "client.repository.download(model_uid)"
        }, 
        {
            "execution_count": 51, 
            "cell_type": "code", 
            "metadata": {}, 
            "outputs": [], 
            "source": "from watson_machine_learning_client.utils import create_download_link\n\nfilename = 'downloaded_artifact.tar.gz'"
        }, 
        {
            "execution_count": 52, 
            "cell_type": "code", 
            "metadata": {}, 
            "outputs": [
                {
                    "execution_count": 52, 
                    "metadata": {}, 
                    "data": {
                        "text/html": "<a download=\"downloaded_artifact.tar.gz\" href=\"data:binary;base64,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\" target=\"_blank\">Download file.</a>", 
                        "text/plain": "<IPython.core.display.HTML object>"
                    }, 
                    "output_type": "execute_result"
                }
            ], 
            "source": "create_download_link(filename)"
        }, 
        {
            "source": "<a id=\"deploy\"></a>\n## 6. Deploy model in the IBM Cloud", 
            "cell_type": "markdown", 
            "metadata": {}
        }, 
        {
            "source": "You can use following command to create online deployment in cloud.", 
            "cell_type": "markdown", 
            "metadata": {}
        }, 
        {
            "execution_count": 53, 
            "cell_type": "code", 
            "metadata": {}, 
            "outputs": [
                {
                    "output_type": "stream", 
                    "name": "stdout", 
                    "text": "\n\n#######################################################################################\n\nSynchronous deployment creation for uid: 'c49c9543-0662-422e-8d6b-2869a04a2d03' started\n\n#######################################################################################\n\n\nINITIALIZING\nDEPLOY_SUCCESS\n\n\n------------------------------------------------------------------------------------------------\nSuccessfully finished deployment creation, deployment_uid='9a0f54a5-8916-4449-a878-b6beeb29736b'\n------------------------------------------------------------------------------------------------\n\n\n"
                }
            ], 
            "source": "deployment_details = client.deployments.create(model_uid=model_uid, name='CARS4U - Area and Action Model Deployment')"
        }, 
        {
            "source": "You can use deployed model to score new data using scoring endpoint.", 
            "cell_type": "markdown", 
            "metadata": {}
        }, 
        {
            "execution_count": 54, 
            "cell_type": "code", 
            "metadata": {}, 
            "outputs": [
                {
                    "output_type": "stream", 
                    "name": "stdout", 
                    "text": "https://us-south.ml.cloud.ibm.com/v3/wml_instances/e30fe554-6e3e-4e0e-af06-90f93686f358/deployments/9a0f54a5-8916-4449-a878-b6beeb29736b/online\n"
                }
            ], 
            "source": "scoring_url = client.deployments.get_scoring_url(deployment_details)\nprint(scoring_url)"
        }, 
        {
            "source": "<a id=\"score\"></a>\n## 7. Score the model", 
            "cell_type": "markdown", 
            "metadata": {}
        }, 
        {
            "execution_count": 55, 
            "cell_type": "code", 
            "metadata": {}, 
            "outputs": [], 
            "source": "fields = ['ID', 'Gender', 'Status', 'Children', 'Age', 'Customer_Status','Car_Owner', 'Customer_Service', 'Business_Area', 'Satisfaction']\nvalues = [3785, 'Male', 'S', 1, 17, 'Inactive', 'Yes', 'The car should have been brought to us instead of us trying to find it in the lot.', 'Product: Information', 0]"
        }, 
        {
            "execution_count": 59, 
            "cell_type": "code", 
            "metadata": {}, 
            "outputs": [
                {
                    "output_type": "stream", 
                    "name": "stdout", 
                    "text": "Predicted Business Area: \"Product: Functioning\"\nRecommended action: \"On-demand pickup location\"\n"
                }
            ], 
            "source": "payload_scoring = {\"fields\": fields,\"values\": [values]}\nscoring_response = client.deployments.score(scoring_url, payload_scoring)\n\nprint(\"Predicted Business Area: \" + json.dumps(scoring_response['values'][0][18]))\nprint(\"Recommended action: \" + json.dumps(scoring_response['values'][0][28]))"
        }, 
        {
            "source": "---", 
            "cell_type": "markdown", 
            "metadata": {}
        }
    ], 
    "metadata": {
        "kernelspec": {
            "display_name": "Python 3.5 with Spark 2.1", 
            "name": "python3-spark21", 
            "language": "python"
        }, 
        "language_info": {
            "mimetype": "text/x-python", 
            "nbconvert_exporter": "python", 
            "version": "3.5.4", 
            "name": "python", 
            "file_extension": ".py", 
            "pygments_lexer": "ipython3", 
            "codemirror_mode": {
                "version": 3, 
                "name": "ipython"
            }
        }
    }, 
    "nbformat": 4
}
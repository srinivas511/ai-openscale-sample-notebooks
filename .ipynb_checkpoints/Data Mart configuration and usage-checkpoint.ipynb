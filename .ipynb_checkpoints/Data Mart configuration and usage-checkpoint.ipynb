{
 "cells": [
  {
   "cell_type": "markdown",
   "metadata": {},
   "source": [
    "# Data Mart configuration and usage with `ibm-ai-openscale` python package\n",
    "\n",
    "<img src=\"https://console-lon02-black.cdn.stage1.s-bluemix.net/catalog/proxy-image/service-icon?url=https%3A%2F%2Faiopenscale-broker-ys1prod.stage1.mybluemix.net%2Fpublic%2Ffeatured.png\" align=\"left\" alt=\"banner\" width=\"65\">"
   ]
  },
  {
   "cell_type": "markdown",
   "metadata": {},
   "source": [
    "This notebook shows hot to create a data mart for Watson Machine Learning deployments. It includes steps for performance, bias and quality monitor configurations."
   ]
  },
  {
   "cell_type": "markdown",
   "metadata": {},
   "source": [
    "Contents\n",
    "- [1. Setup](#setup)\n",
    "- [2. Binding machine learning engine](#binding)\n",
    "- [3. Subscriptions](#subscription)\n",
    "- [4. Score models](#scoring)\n",
    "- [5. Data Mart](#datamart)\n",
    "- [6. Visualization](#visualization)"
   ]
  },
  {
   "cell_type": "markdown",
   "metadata": {},
   "source": [
    "<a id=\"setup\"></a>\n",
    "## 1. Setup"
   ]
  },
  {
   "cell_type": "markdown",
   "metadata": {},
   "source": [
    "### 1.1 Installation and authentication"
   ]
  },
  {
   "cell_type": "code",
   "execution_count": null,
   "metadata": {
    "scrolled": true
   },
   "outputs": [],
   "source": [
    "!pip install --upgrade ibm-ai-openscale"
   ]
  },
  {
   "cell_type": "code",
   "execution_count": null,
   "metadata": {},
   "outputs": [],
   "source": [
    "!pip install --upgrade watson-machine-learning-client"
   ]
  },
  {
   "cell_type": "markdown",
   "metadata": {},
   "source": [
    "### ACTION: Restart kernel to make sure installed versions are used."
   ]
  },
  {
   "cell_type": "markdown",
   "metadata": {},
   "source": [
    "Import and initiate."
   ]
  },
  {
   "cell_type": "code",
   "execution_count": 1,
   "metadata": {},
   "outputs": [],
   "source": [
    "from ibm_ai_openscale import APIClient\n",
    "from ibm_ai_openscale.engines import *"
   ]
  },
  {
   "cell_type": "markdown",
   "metadata": {},
   "source": [
    "### ACTION: Get `data_mart_id` (GUID) and `apikey`\n",
    "\n",
    "How to get api key using bluemix console:\n",
    "```\n",
    "ibmcloud login --sso\n",
    "ibmcloud iam api-key-create 'my_key'\n",
    "```\n",
    "\n",
    "How to get DATA_MART_ID (this is AI OpenScale instance GUID)\n",
    "```\n",
    "ibmcloud target -g 'my_resource_group'\n",
    "ibmcloud resource service-instance 'instance_name'\n",
    "```\n",
    "**Note:** Default name for resource group is `'default'`."
   ]
  },
  {
   "cell_type": "code",
   "execution_count": 2,
   "metadata": {},
   "outputs": [],
   "source": [
    "aios_credentials = {\n",
    "  \"data_mart_id\": \"*****\",\n",
    "  \"apikey\": \"*****\", \n",
    "  \"url\": \"https://api.aiopenscale.cloud.ibm.com\"\n",
    "}"
   ]
  },
  {
   "cell_type": "code",
   "execution_count": 3,
   "metadata": {},
   "outputs": [],
   "source": [
    "# The code was removed by Watson Studio for sharing."
   ]
  },
  {
   "cell_type": "markdown",
   "metadata": {},
   "source": [
    "### ACTION: Add your Watson Machine Learning credentials here"
   ]
  },
  {
   "cell_type": "code",
   "execution_count": 4,
   "metadata": {},
   "outputs": [],
   "source": [
    "wml_credentials =  {\n",
    "  \"apikey\": \"***\",\n",
    "  \"iam_apikey_description\": \"Auto generated apikey during resource-key operation for Instance - crn:v1:bluemix:public:pm-20:us-south:a/181ed6cc388f47bd9d862fe066f9cfce:c419e24a-c4eb-41b4-a2e1-ce4f0d298428::\",\n",
    "  \"iam_apikey_name\": \"auto-generated-apikey-33f864a1-9958-4a32-b9ab-6fd962f98522\",\n",
    "  \"iam_role_crn\": \"crn:v1:bluemix:public:iam::::serviceRole:Writer\",\n",
    "  \"iam_serviceid_crn\": \"crn:v1:bluemix:public:iam-identity::a/181ed6cc388f47bd9d862fe066f9cfce::serviceid:ServiceId-e847629a-195e-455d-a949-957263b867ab\",\n",
    "  \"instance_id\": \"***\",\n",
    "  \"password\": \"***\",\n",
    "  \"url\": \"https://us-south.ml.cloud.ibm.com\",\n",
    "  \"username\": \"*****\"\n",
    "}"
   ]
  },
  {
   "cell_type": "code",
   "execution_count": 5,
   "metadata": {},
   "outputs": [],
   "source": [
    "# The code was removed by Watson Studio for sharing."
   ]
  },
  {
   "cell_type": "markdown",
   "metadata": {},
   "source": [
    "### ACTION: Add your PostgreSQL credentials here"
   ]
  },
  {
   "cell_type": "code",
   "execution_count": 6,
   "metadata": {},
   "outputs": [],
   "source": [
    "postgres_credentials = {\n",
    "    \"db_type\": \"postgresql\",\n",
    "    \"uri_cli_1\": \"xxx\",\n",
    "    \"maps\": [],\n",
    "    \"instance_administration_api\": {\n",
    "        \"instance_id\": \"xxx\",\n",
    "        \"root\": \"xxx\",\n",
    "        \"deployment_id\": \"xxx\"\n",
    "    },\n",
    "    \"name\": \"xxx\",\n",
    "    \"uri_cli\": \"xxx\",\n",
    "    \"uri_direct_1\": \"xxx\",\n",
    "    \"ca_certificate_base64\": \"xxx\",\n",
    "    \"deployment_id\": \"xxx\",\n",
    "    \"uri\": \"xxx\"\n",
    "}"
   ]
  },
  {
   "cell_type": "code",
   "execution_count": 7,
   "metadata": {},
   "outputs": [],
   "source": [
    "# The code was removed by Watson Studio for sharing."
   ]
  },
  {
   "cell_type": "code",
   "execution_count": 8,
   "metadata": {
    "scrolled": true
   },
   "outputs": [],
   "source": [
    "client = APIClient(aios_credentials)"
   ]
  },
  {
   "cell_type": "code",
   "execution_count": 9,
   "metadata": {},
   "outputs": [
    {
     "data": {
      "text/plain": [
       "'1.0.1'"
      ]
     },
     "execution_count": 9,
     "metadata": {},
     "output_type": "execute_result"
    }
   ],
   "source": [
    "client.version"
   ]
  },
  {
   "cell_type": "markdown",
   "metadata": {},
   "source": [
    "Put your schema name here."
   ]
  },
  {
   "cell_type": "code",
   "execution_count": 18,
   "metadata": {},
   "outputs": [],
   "source": [
    "schemaName = 'data_mart'"
   ]
  },
  {
   "cell_type": "markdown",
   "metadata": {},
   "source": [
    "You can use the code below to create the schema. If the schema already exists skipp this cell."
   ]
  },
  {
   "cell_type": "code",
   "execution_count": 19,
   "metadata": {},
   "outputs": [],
   "source": [
    "import psycopg2\n",
    "\n",
    "hostname = postgres_credentials['uri'].split('@')[1].split(':')[0]\n",
    "port = postgres_credentials['uri'].split('@')[1].split(':')[1].split('/')[0]\n",
    "user = postgres_credentials['uri'].split('@')[0].split('//')[1].split(':')[0]\n",
    "password = postgres_credentials['uri'].split('@')[0].split('//')[1].split(':')[1]\n",
    "dbname = 'compose'\n",
    "\n",
    "conn_string = \"host=\" + hostname + \" port=\" + port + \" dbname=\" + dbname + \" user=\" + user + \" password=\" + password\n",
    "conn = psycopg2.connect(conn_string)\n",
    "conn.autocommit = True\n",
    "cursor = conn.cursor()\n",
    "try:\n",
    "    query = \"drop schema \" + schemaName + \" cascade\"\n",
    "    cursor.execute(query)\n",
    "except:\n",
    "    pass\n",
    "finally:    \n",
    "    try:\n",
    "        query = \"create schema \" + schemaName\n",
    "        cursor.execute(query)\n",
    "    finally:    \n",
    "        conn.close()"
   ]
  },
  {
   "cell_type": "markdown",
   "metadata": {},
   "source": [
    "### 1.2 DataMart setup"
   ]
  },
  {
   "cell_type": "code",
   "execution_count": 20,
   "metadata": {},
   "outputs": [],
   "source": [
    "client.data_mart.setup(postgres_credentials=postgres_credentials, schema=schemaName)"
   ]
  },
  {
   "cell_type": "code",
   "execution_count": 10,
   "metadata": {},
   "outputs": [],
   "source": [
    "data_mart_details = client.data_mart.get_details()"
   ]
  },
  {
   "cell_type": "markdown",
   "metadata": {},
   "source": [
    "Data Mart with instance id name has been created."
   ]
  },
  {
   "cell_type": "markdown",
   "metadata": {},
   "source": [
    "<a id=\"binding\"></a>\n",
    "\n",
    "## 2. Bind machine learning engines"
   ]
  },
  {
   "cell_type": "markdown",
   "metadata": {},
   "source": [
    "### 2.1 Bind Watson Machine Learning "
   ]
  },
  {
   "cell_type": "markdown",
   "metadata": {},
   "source": [
    "You can bind you Watson Machine Learning instance to previously created data mart."
   ]
  },
  {
   "cell_type": "code",
   "execution_count": 23,
   "metadata": {},
   "outputs": [],
   "source": [
    "binding_uid = client.data_mart.bindings.add('WML instance', WatsonMachineLearningInstance(wml_credentials))"
   ]
  },
  {
   "cell_type": "code",
   "execution_count": 11,
   "metadata": {},
   "outputs": [],
   "source": [
    "bindings_details = client.data_mart.bindings.get_details()"
   ]
  },
  {
   "cell_type": "code",
   "execution_count": 12,
   "metadata": {},
   "outputs": [
    {
     "data": {
      "text/html": [
       "<HTML>\n",
       "        <body>\n",
       "            <h3>Service bindings</h3>\n",
       "            <table style='border: 1px solid #dddddd; font-family: Courier'>\n",
       "                <th style='border: 1px solid #dddddd'>uid</th><th style='border: 1px solid #dddddd'>name</th><th style='border: 1px solid #dddddd'>service_type</th><th style='border: 1px solid #dddddd'>created</th>\n",
       "                <tr><td style='border: 1px solid #dddddd'>e30fe554-6e3e-4e0e-af06-90f93686f358</td><td style='border: 1px solid #dddddd'>WML instance</td><td style='border: 1px solid #dddddd'>watson_machine_learning</td><td style='border: 1px solid #dddddd'>2018-09-20T08:21:56.421Z</td></tr>\n",
       "            </table>\n",
       "        </body>\n",
       "        </HTML>"
      ],
      "text/plain": [
       "<IPython.core.display.HTML object>"
      ]
     },
     "metadata": {},
     "output_type": "display_data"
    }
   ],
   "source": [
    "client.data_mart.bindings.list()"
   ]
  },
  {
   "cell_type": "markdown",
   "metadata": {},
   "source": [
    "### 2.2 Check available assets from binded services"
   ]
  },
  {
   "cell_type": "markdown",
   "metadata": {},
   "source": [
    "#### List available assets"
   ]
  },
  {
   "cell_type": "code",
   "execution_count": 26,
   "metadata": {},
   "outputs": [
    {
     "data": {
      "text/html": [
       "<HTML>\n",
       "        <body>\n",
       "            <h3>Available assets</h3>\n",
       "            <table style='border: 1px solid #dddddd; font-family: Courier'>\n",
       "                <th style='border: 1px solid #dddddd'>source_uid</th><th style='border: 1px solid #dddddd'>name</th><th style='border: 1px solid #dddddd'>created</th><th style='border: 1px solid #dddddd'>type</th><th style='border: 1px solid #dddddd'>frameworks</th><th style='border: 1px solid #dddddd'>binding_uid</th><th style='border: 1px solid #dddddd'>subscription_uid</th>\n",
       "                <tr><td style='border: 1px solid #dddddd'>e660f8ea-fb82-4f3e-9475-9817612abc2b</td><td style='border: 1px solid #dddddd'>drug-selection</td><td style='border: 1px solid #dddddd'>2018-09-20T08:13:57.668Z</td><td style='border: 1px solid #dddddd'>model</td><td style='border: 1px solid #dddddd'>mllib-2.1</td><td style='border: 1px solid #dddddd'>e30fe554-6e3e-4e0e-af06-90f93686f358</td><td style='border: 1px solid #dddddd'>-</td></tr><tr><td style='border: 1px solid #dddddd'>b61e1c6a-9f24-4011-8f63-bc9bc115de17</td><td style='border: 1px solid #dddddd'>product-line-prediction</td><td style='border: 1px solid #dddddd'>2018-09-20T08:12:15.741Z</td><td style='border: 1px solid #dddddd'>model</td><td style='border: 1px solid #dddddd'>mllib-2.1</td><td style='border: 1px solid #dddddd'>e30fe554-6e3e-4e0e-af06-90f93686f358</td><td style='border: 1px solid #dddddd'>-</td></tr>\n",
       "            </table>\n",
       "        </body>\n",
       "        </HTML>"
      ],
      "text/plain": [
       "<IPython.core.display.HTML object>"
      ]
     },
     "metadata": {},
     "output_type": "display_data"
    }
   ],
   "source": [
    "client.data_mart.bindings.list_assets()"
   ]
  },
  {
   "cell_type": "markdown",
   "metadata": {},
   "source": [
    "#### Get metadata of available assets"
   ]
  },
  {
   "cell_type": "code",
   "execution_count": 27,
   "metadata": {},
   "outputs": [],
   "source": [
    "assets_details = client.data_mart.bindings.get_asset_details()"
   ]
  },
  {
   "cell_type": "code",
   "execution_count": 28,
   "metadata": {},
   "outputs": [],
   "source": [
    "source_assets_uids = []\n",
    "\n",
    "for x in client.data_mart.bindings.get_asset_details():\n",
    "    source_assets_uids.append(x['source_uid'])"
   ]
  },
  {
   "cell_type": "code",
   "execution_count": 29,
   "metadata": {},
   "outputs": [
    {
     "name": "stdout",
     "output_type": "stream",
     "text": [
      "['b61e1c6a-9f24-4011-8f63-bc9bc115de17', 'e660f8ea-fb82-4f3e-9475-9817612abc2b']\n"
     ]
    }
   ],
   "source": [
    "print(str(source_assets_uids))"
   ]
  },
  {
   "cell_type": "markdown",
   "metadata": {},
   "source": [
    "<a id=\"subscriptions\"></a>\n",
    "## 3. Subscriptions"
   ]
  },
  {
   "cell_type": "markdown",
   "metadata": {},
   "source": [
    "### 3.1 Add subscriptions"
   ]
  },
  {
   "cell_type": "code",
   "execution_count": 30,
   "metadata": {},
   "outputs": [
    {
     "name": "stdout",
     "output_type": "stream",
     "text": [
      "Adding subscription for: b61e1c6a-9f24-4011-8f63-bc9bc115de17\n",
      "Adding subscription for: e660f8ea-fb82-4f3e-9475-9817612abc2b\n"
     ]
    }
   ],
   "source": [
    "for uid in source_assets_uids:\n",
    "    sub = client.data_mart.subscriptions.add(WatsonMachineLearningAsset(uid))\n",
    "    print(\"Adding subscription for: \" + str(uid))"
   ]
  },
  {
   "cell_type": "markdown",
   "metadata": {},
   "source": [
    "#### Get subscriptions list"
   ]
  },
  {
   "cell_type": "code",
   "execution_count": 31,
   "metadata": {},
   "outputs": [
    {
     "name": "stdout",
     "output_type": "stream",
     "text": [
      "['b61e1c6a-9f24-4011-8f63-bc9bc115de17', 'e660f8ea-fb82-4f3e-9475-9817612abc2b']\n"
     ]
    }
   ],
   "source": [
    "subscriptions_uids = client.data_mart.subscriptions.get_uids()\n",
    "print(subscriptions_uids)"
   ]
  },
  {
   "cell_type": "markdown",
   "metadata": {},
   "source": [
    "#### List subscriptions"
   ]
  },
  {
   "cell_type": "code",
   "execution_count": 32,
   "metadata": {},
   "outputs": [
    {
     "data": {
      "text/html": [
       "<HTML>\n",
       "        <body>\n",
       "            <h3>Subscriptions</h3>\n",
       "            <table style='border: 1px solid #dddddd; font-family: Courier'>\n",
       "                <th style='border: 1px solid #dddddd'>uid</th><th style='border: 1px solid #dddddd'>name</th><th style='border: 1px solid #dddddd'>type</th><th style='border: 1px solid #dddddd'>binding_uid</th><th style='border: 1px solid #dddddd'>source_uid</th><th style='border: 1px solid #dddddd'>created</th>\n",
       "                <tr><td style='border: 1px solid #dddddd'>e660f8ea-fb82-4f3e-9475-9817612abc2b</td><td style='border: 1px solid #dddddd'>drug-selection</td><td style='border: 1px solid #dddddd'>model</td><td style='border: 1px solid #dddddd'>e30fe554-6e3e-4e0e-af06-90f93686f358</td><td style='border: 1px solid #dddddd'>e660f8ea-fb82-4f3e-9475-9817612abc2b</td><td style='border: 1px solid #dddddd'>2018-09-20T08:22:50.786Z</td></tr><tr><td style='border: 1px solid #dddddd'>b61e1c6a-9f24-4011-8f63-bc9bc115de17</td><td style='border: 1px solid #dddddd'>product-line-prediction</td><td style='border: 1px solid #dddddd'>model</td><td style='border: 1px solid #dddddd'>e30fe554-6e3e-4e0e-af06-90f93686f358</td><td style='border: 1px solid #dddddd'>b61e1c6a-9f24-4011-8f63-bc9bc115de17</td><td style='border: 1px solid #dddddd'>2018-09-20T08:22:48.448Z</td></tr>\n",
       "            </table>\n",
       "        </body>\n",
       "        </HTML>"
      ],
      "text/plain": [
       "<IPython.core.display.HTML object>"
      ]
     },
     "metadata": {},
     "output_type": "display_data"
    }
   ],
   "source": [
    "client.data_mart.subscriptions.list()"
   ]
  },
  {
   "cell_type": "markdown",
   "metadata": {},
   "source": [
    "### 3.2 Enable payload logging and performance monitor for both subscribed assets"
   ]
  },
  {
   "cell_type": "code",
   "execution_count": 33,
   "metadata": {},
   "outputs": [],
   "source": [
    "for uid in subscriptions_uids:\n",
    "    subscription = client.data_mart.subscriptions.get(uid)\n",
    "    subscription.payload_logging.enable()\n",
    "    subscription.performance_monitoring.enable()"
   ]
  },
  {
   "cell_type": "markdown",
   "metadata": {},
   "source": [
    "#### Get details of enabled payload logging"
   ]
  },
  {
   "cell_type": "code",
   "execution_count": 34,
   "metadata": {},
   "outputs": [],
   "source": [
    "payload_logging_details = subscription.payload_logging.get_details()"
   ]
  },
  {
   "cell_type": "markdown",
   "metadata": {},
   "source": [
    "#### Print schema of payload_logging table"
   ]
  },
  {
   "cell_type": "code",
   "execution_count": 35,
   "metadata": {},
   "outputs": [
    {
     "data": {
      "text/html": [
       "<HTML>\n",
       "        <body>\n",
       "            <h3>Schema of Payload_e660f8ea-fb82-4f3e-9475-9817612abc2b</h3>\n",
       "            <table style='border: 1px solid #dddddd; font-family: Courier'>\n",
       "                <th style='border: 1px solid #dddddd'>name</th><th style='border: 1px solid #dddddd'>type</th><th style='border: 1px solid #dddddd'>size</th><th style='border: 1px solid #dddddd'>precision</th><th style='border: 1px solid #dddddd'>scale</th><th style='border: 1px solid #dddddd'>nullable</th>\n",
       "                <tr><td style='border: 1px solid #dddddd'>scoring_id</td><td style='border: 1px solid #dddddd'>text</td><td style='border: 1px solid #dddddd'>-</td><td style='border: 1px solid #dddddd'>-</td><td style='border: 1px solid #dddddd'>-</td><td style='border: 1px solid #dddddd'>N</td></tr><tr><td style='border: 1px solid #dddddd'>scoring_timestamp</td><td style='border: 1px solid #dddddd'>timestamp</td><td style='border: 1px solid #dddddd'>8</td><td style='border: 1px solid #dddddd'>-</td><td style='border: 1px solid #dddddd'>-</td><td style='border: 1px solid #dddddd'>N</td></tr><tr><td style='border: 1px solid #dddddd'>deployment_id</td><td style='border: 1px solid #dddddd'>text</td><td style='border: 1px solid #dddddd'>-</td><td style='border: 1px solid #dddddd'>-</td><td style='border: 1px solid #dddddd'>-</td><td style='border: 1px solid #dddddd'>N</td></tr><tr><td style='border: 1px solid #dddddd'>asset_revision</td><td style='border: 1px solid #dddddd'>text</td><td style='border: 1px solid #dddddd'>-</td><td style='border: 1px solid #dddddd'>-</td><td style='border: 1px solid #dddddd'>-</td><td style='border: 1px solid #dddddd'>N</td></tr><tr><td style='border: 1px solid #dddddd'>AGE</td><td style='border: 1px solid #dddddd'>int4</td><td style='border: 1px solid #dddddd'>4</td><td style='border: 1px solid #dddddd'>-</td><td style='border: 1px solid #dddddd'>-</td><td style='border: 1px solid #dddddd'>N</td></tr><tr><td style='border: 1px solid #dddddd'>SEX</td><td style='border: 1px solid #dddddd'>text</td><td style='border: 1px solid #dddddd'>-</td><td style='border: 1px solid #dddddd'>-</td><td style='border: 1px solid #dddddd'>-</td><td style='border: 1px solid #dddddd'>N</td></tr><tr><td style='border: 1px solid #dddddd'>BP</td><td style='border: 1px solid #dddddd'>text</td><td style='border: 1px solid #dddddd'>-</td><td style='border: 1px solid #dddddd'>-</td><td style='border: 1px solid #dddddd'>-</td><td style='border: 1px solid #dddddd'>N</td></tr><tr><td style='border: 1px solid #dddddd'>CHOLESTEROL</td><td style='border: 1px solid #dddddd'>text</td><td style='border: 1px solid #dddddd'>-</td><td style='border: 1px solid #dddddd'>-</td><td style='border: 1px solid #dddddd'>-</td><td style='border: 1px solid #dddddd'>N</td></tr><tr><td style='border: 1px solid #dddddd'>NA</td><td style='border: 1px solid #dddddd'>numeric</td><td style='border: 1px solid #dddddd'>21</td><td style='border: 1px solid #dddddd'>21</td><td style='border: 1px solid #dddddd'>2</td><td style='border: 1px solid #dddddd'>N</td></tr><tr><td style='border: 1px solid #dddddd'>K</td><td style='border: 1px solid #dddddd'>numeric</td><td style='border: 1px solid #dddddd'>21</td><td style='border: 1px solid #dddddd'>21</td><td style='border: 1px solid #dddddd'>2</td><td style='border: 1px solid #dddddd'>N</td></tr><tr><td style='border: 1px solid #dddddd'>prediction</td><td style='border: 1px solid #dddddd'>float8</td><td style='border: 1px solid #dddddd'>8</td><td style='border: 1px solid #dddddd'>-</td><td style='border: 1px solid #dddddd'>-</td><td style='border: 1px solid #dddddd'>N</td></tr><tr><td style='border: 1px solid #dddddd'>predictedLabel</td><td style='border: 1px solid #dddddd'>text</td><td style='border: 1px solid #dddddd'>-</td><td style='border: 1px solid #dddddd'>-</td><td style='border: 1px solid #dddddd'>-</td><td style='border: 1px solid #dddddd'>N</td></tr><tr><td style='border: 1px solid #dddddd'>probability</td><td style='border: 1px solid #dddddd'>jsonb</td><td style='border: 1px solid #dddddd'>-</td><td style='border: 1px solid #dddddd'>-</td><td style='border: 1px solid #dddddd'>-</td><td style='border: 1px solid #dddddd'>N</td></tr><tr><td style='border: 1px solid #dddddd'>DRUG</td><td style='border: 1px solid #dddddd'>text</td><td style='border: 1px solid #dddddd'>-</td><td style='border: 1px solid #dddddd'>-</td><td style='border: 1px solid #dddddd'>-</td><td style='border: 1px solid #dddddd'>N</td></tr>\n",
       "            </table>\n",
       "        </body>\n",
       "        </HTML>"
      ],
      "text/plain": [
       "<IPython.core.display.HTML object>"
      ]
     },
     "metadata": {},
     "output_type": "display_data"
    }
   ],
   "source": [
    "subscription.payload_logging.print_table_schema()"
   ]
  },
  {
   "cell_type": "markdown",
   "metadata": {},
   "source": [
    "### 3.3 Enable Quality (Accuracy) monitor for best heart drug asset"
   ]
  },
  {
   "cell_type": "markdown",
   "metadata": {},
   "source": [
    "#### Quality monitoring"
   ]
  },
  {
   "cell_type": "markdown",
   "metadata": {},
   "source": [
    "Get the subscription ID for heart-drug model"
   ]
  },
  {
   "cell_type": "code",
   "execution_count": 13,
   "metadata": {},
   "outputs": [],
   "source": [
    "subscriptions_details = client.data_mart.subscriptions.get_details()\n",
    "heart_drug_subscription = None\n",
    "\n",
    "for s in subscriptions_details['subscriptions']:\n",
    "    if s['entity']['asset']['name'] == 'drug-selection':\n",
    "        heart_drug_subscription = s['metadata']['guid']\n"
   ]
  },
  {
   "cell_type": "code",
   "execution_count": 14,
   "metadata": {},
   "outputs": [],
   "source": [
    "subscription = client.data_mart.subscriptions.get(heart_drug_subscription)"
   ]
  },
  {
   "cell_type": "markdown",
   "metadata": {},
   "source": [
    "### ACTION: Put your Spark Service credentials here"
   ]
  },
  {
   "cell_type": "code",
   "execution_count": 39,
   "metadata": {},
   "outputs": [],
   "source": [
    "spark_credentials = {\n",
    "                  \"tenant_id\": \"****\",\n",
    "                  \"tenant_id_full\": \"915544ce-9411-437e-8ad5-a45c0b14cebb_01b7600f-62c7-4f5a-974b-9fffe65d1ab9\",\n",
    "                  \"cluster_master_url\": \"https://spark.bluemix.net\",\n",
    "                  \"tenant_secret\": \"***\",\n",
    "                  \"instance_id\": \"****\",\n",
    "                  \"plan\": \"ibm.SparkService.PayGoPersonal\"\n",
    "}"
   ]
  },
  {
   "cell_type": "code",
   "execution_count": 40,
   "metadata": {},
   "outputs": [],
   "source": [
    "# The code was removed by Watson Studio for sharing."
   ]
  },
  {
   "cell_type": "markdown",
   "metadata": {},
   "source": [
    "#### Enable Accuracy monitor for selected subscription"
   ]
  },
  {
   "cell_type": "code",
   "execution_count": 41,
   "metadata": {},
   "outputs": [],
   "source": [
    "subscription.quality_monitoring.enable(evaluation_method='multiclass', threshold=0.8, min_records=5, spark_credentials=spark_credentials)"
   ]
  },
  {
   "cell_type": "markdown",
   "metadata": {},
   "source": [
    "#### Send some feedback records to feedback store. "
   ]
  },
  {
   "cell_type": "markdown",
   "metadata": {},
   "source": [
    "Feedback records are used to evaluate our model."
   ]
  },
  {
   "cell_type": "code",
   "execution_count": 42,
   "metadata": {},
   "outputs": [],
   "source": [
    "subscription.feedback_logging.store(\n",
    "            [\n",
    "                [20.0, 'M', 'HIGH', 'HIGH', 0.715337, 0.074773, 'drugB'],\n",
    "                [38.0, 'F', 'HIGH', 'NORMAL', 0.868924, 0.061023, 'drugB'],\n",
    "                [68.0, 'F', 'HIGH', 'NORMAL', 0.77541, 0.0761, 'drugB'],\n",
    "                [65.0, 'M', 'HIGH', 'NORMAL', 0.635551, 0.056043, 'drugB'],\n",
    "                [30.0, 'F', 'HIGH', 'HIGH', 0.800607, 0.060181, 'drugB'],\n",
    "                [70.0, 'M', 'HIGH', 'HIGH', 0.658606, 0.047153, 'drugB'],\n",
    "                [60.0, 'M', 'HIGH', 'HIGH', 0.805651, 0.057821, 'drugB'],\n",
    "                [59.0, 'M', 'HIGH', 'HIGH', 0.816356, 0.058583, 'drugB'],\n",
    "                [60.0, 'F', 'HIGH', 'HIGH', 0.800607, 0.060181, 'drugB'],\n",
    "                [70.0, 'M', 'HIGH', 'HIGH', 0.658606, 0.047153, 'drugB'],\n",
    "                [60.0, 'M', 'HIGH', 'HIGH', 0.805651, 0.057821, 'drugB'],\n",
    "                [59.0, 'M', 'HIGH', 'HIGH', 0.816356, 0.058583, 'drugB']\n",
    "            ],\n",
    "            fields=['AGE', 'SEX', 'BP', 'CHOLESTEROL', 'NA', 'K', 'DRUG']\n",
    "        )"
   ]
  },
  {
   "cell_type": "markdown",
   "metadata": {},
   "source": [
    "<a id=\"scoring\"></a>\n",
    "## 4. Score models\n",
    "Working with `watson-machine-learning-client`."
   ]
  },
  {
   "cell_type": "markdown",
   "metadata": {},
   "source": [
    "#### Get the initialized `watson-machine-learning` client"
   ]
  },
  {
   "cell_type": "code",
   "execution_count": 29,
   "metadata": {},
   "outputs": [],
   "source": [
    "wml_client = client.data_mart.bindings.get_native_engine_client(binding_uid=binding_uid)"
   ]
  },
  {
   "cell_type": "markdown",
   "metadata": {},
   "source": [
    "`watson-machine-learning-client` documentation can be found [here](wml-api-pyclient.mybluemix.net)."
   ]
  },
  {
   "cell_type": "markdown",
   "metadata": {},
   "source": [
    "Let's list our deployments."
   ]
  },
  {
   "cell_type": "code",
   "execution_count": 30,
   "metadata": {},
   "outputs": [
    {
     "name": "stdout",
     "output_type": "stream",
     "text": [
      "------------------------------------  --------------------------------  ------  --------------  ------------------------  ---------  -------------\n",
      "GUID                                  NAME                              TYPE    STATE           CREATED                   FRAMEWORK  ARTIFACT TYPE\n",
      "c71edbca-727c-4e7f-9cd7-99929c5b63bf  CARS4U - Action Model Deployment  online  DEPLOY_SUCCESS  2018-09-20T09:45:22.524Z  mllib-2.1  model\n",
      "10e2f722-b2b2-4ece-89d4-b691c5ad0d04  drug-selection deployment         online  UPDATE_SUCCESS  2018-09-20T08:14:17.933Z  mllib-2.1  model\n",
      "a65b7a1c-3563-4748-a05d-9fbddb2f1c0c  product line deployment           online  DEPLOY_SUCCESS  2018-09-20T08:12:33.616Z  mllib-2.1  model\n",
      "------------------------------------  --------------------------------  ------  --------------  ------------------------  ---------  -------------\n"
     ]
    }
   ],
   "source": [
    "wml_client.deployments.list()"
   ]
  },
  {
   "cell_type": "markdown",
   "metadata": {},
   "source": [
    "Let's extract scoring_ednpoints for both deployments."
   ]
  },
  {
   "cell_type": "code",
   "execution_count": 31,
   "metadata": {},
   "outputs": [],
   "source": [
    "heart_scoring_endpoint = None\n",
    "product_scoring_endpoint = None\n",
    "\n",
    "for deployment in wml_client.deployments.get_details()['resources']:\n",
    "    if deployment['entity']['deployable_asset']['name'] == 'drug-selection':\n",
    "      heart_scoring_endpoint = deployment['entity']['scoring_url']\n",
    "    elif deployment['entity']['deployable_asset']['name'] == 'product-line-prediction':\n",
    "      product_scoring_endpoint = deployment['entity']['scoring_url']"
   ]
  },
  {
   "cell_type": "markdown",
   "metadata": {},
   "source": [
    "### 4.1 Score the best-heart drug model"
   ]
  },
  {
   "cell_type": "code",
   "execution_count": 103,
   "metadata": {},
   "outputs": [
    {
     "name": "stdout",
     "output_type": "stream",
     "text": [
      "{'values': [[20, 'F', 'HIGH', 'HIGH', 0.71, 0.07, 'drugY', 0.0, 1.0, 0.0, 0.0, [20.0, 1.0, 0.0, 0.0, 0.71, 0.07], [0.0, 0.0, 32.0, 0.0, 1.0], [0.0, 0.0, 0.9696969696969697, 0.0, 0.030303030303030304], 2.0, 'drugA'], [55, 'M', 'LOW', 'HIGH', 0.71, 0.07, 'drugY', 0.0, 0.0, 2.0, 0.0, [55.0, 0.0, 2.0, 0.0, 0.71, 0.07], [0.0, 0.0, 0.0, 16.0, 0.0], [0.0, 0.0, 0.0, 1.0, 0.0], 3.0, 'drugC']], 'fields': ['AGE', 'SEX', 'BP', 'CHOLESTEROL', 'NA', 'K', 'DRUG', 'label', 'SEX_IX', 'BP_IX', 'CHOL_IX', 'features', 'rawPrediction', 'probability', 'prediction', 'predictedLabel']}\n"
     ]
    }
   ],
   "source": [
    "payload_scoring = {\"fields\": [\"AGE\", \"SEX\", \"BP\", \"CHOLESTEROL\",\"NA\",\"K\"],\n",
    "                           \"values\": [[20.0, \"F\", \"HIGH\", \"HIGH\", 0.71, 0.07], [55.0, \"M\", \"LOW\", \"HIGH\", 0.71, 0.07]]}\n",
    "\n",
    "for i in range(1,100):\n",
    "    scores = wml_client.deployments.score(heart_scoring_endpoint, payload_scoring)\n",
    "\n",
    "print(str(scores))\n"
   ]
  },
  {
   "cell_type": "markdown",
   "metadata": {},
   "source": [
    "### 4.2 Score the product-line model"
   ]
  },
  {
   "cell_type": "code",
   "execution_count": 38,
   "metadata": {},
   "outputs": [
    {
     "name": "stdout",
     "output_type": "stream",
     "text": [
      "{'values': [['M', 23, 'Single', 'Student', 'Camping Equipment', 0.0, 6.0, 0.0, 1.0, [0.0, 23.0, 1.0, 6.0], [5.258712981131878, 6.723421733525897, 6.0132018750333724, 0.218060296213069, 1.7866031140957863], [0.26293564905659383, 0.3361710866762948, 0.3006600937516686, 0.010903014810653448, 0.0893301557047893], 1.0, 'Personal Accessories'], ['M', 55, 'Single', 'Executive', 'Camping Equipment', 0.0, 3.0, 0.0, 1.0, [0.0, 55.0, 1.0, 3.0], [3.6000096318286547, 4.060237825988732, 3.8628119611335734, 8.339956386992652, 0.13698419405638748], [0.18000048159143273, 0.20301189129943661, 0.19314059805667866, 0.4169978193496326, 0.006849209702819374], 3.0, 'Golf Equipment'], ['F', 23, 'Single', 'Student', 'Camping Equipment', 0.0, 6.0, 1.0, 1.0, [1.0, 23.0, 1.0, 6.0], [4.858129351530234, 10.093510657380714, 4.395102310181971, 0.19561889262018098, 0.45763878828689825], [0.24290646757651171, 0.5046755328690357, 0.21975511550909857, 0.009780944631009049, 0.022881939414344913], 1.0, 'Personal Accessories'], ['F', 55, 'Single', 'Executive', 'Camping Equipment', 0.0, 3.0, 1.0, 1.0, [1.0, 55.0, 1.0, 3.0], [4.592097013547921, 10.924232464972834, 1.4285807812299836, 2.1173359832585827, 0.9377537569906793], [0.22960485067739606, 0.5462116232486417, 0.07142903906149918, 0.10586679916292914, 0.04688768784953397], 1.0, 'Personal Accessories']], 'fields': ['GENDER', 'AGE', 'MARITAL_STATUS', 'PROFESSION', 'PRODUCT_LINE', 'label', 'PROFESSION_IX', 'GENDER_IX', 'MARITAL_STATUS_IX', 'features', 'rawPrediction', 'probability', 'prediction', 'predictedLabel']}\n"
     ]
    }
   ],
   "source": [
    "payload_scoring = {\"fields\": [\"GENDER\", \"AGE\", \"MARITAL_STATUS\", \"PROFESSION\"],\n",
    "                           \"values\": [[\"M\", 23, \"Single\", \"Student\"], [\"M\", 55, \"Single\", \"Executive\"], [\"F\", 23, \"Single\", \"Student\"], [\"F\", 55, \"Single\", \"Executive\"]]}\n",
    "\n",
    "for i in range(1,100):\n",
    "    scores = wml_client.deployments.score(product_scoring_endpoint, payload_scoring)\n",
    "    \n",
    "print(str(scores))"
   ]
  },
  {
   "cell_type": "markdown",
   "metadata": {},
   "source": [
    "<a id=\"datamart\"></a>\n",
    "## 5. Data mart"
   ]
  },
  {
   "cell_type": "markdown",
   "metadata": {},
   "source": [
    "### 5.1 Accessing tables data via subscription\n",
    "- `show_table`\n",
    "- `describe_table`\n",
    "- `get_table_content(format='pandas')`"
   ]
  },
  {
   "cell_type": "markdown",
   "metadata": {},
   "source": [
    "#### Preview table content"
   ]
  },
  {
   "cell_type": "code",
   "execution_count": 15,
   "metadata": {},
   "outputs": [
    {
     "data": {
      "text/html": [
       "<HTML>\n",
       "        <body>\n",
       "            <h3>Payload_e660f8ea-fb82-4f3e-9475-9817612abc2b</h3>\n",
       "            <table style='border: 1px solid #dddddd; font-family: Courier'>\n",
       "                <th style='border: 1px solid #dddddd'>scoring_id</th><th style='border: 1px solid #dddddd'>scoring_timestamp</th><th style='border: 1px solid #dddddd'>deployment_id</th><th style='border: 1px solid #dddddd'>asset_revision</th><th style='border: 1px solid #dddddd'>AGE</th><th style='border: 1px solid #dddddd'>SEX</th><th style='border: 1px solid #dddddd'>BP</th><th style='border: 1px solid #dddddd'>CHOLESTEROL</th><th style='border: 1px solid #dddddd'>NA</th><th style='border: 1px solid #dddddd'>K</th><th style='border: 1px solid #dddddd'>prediction</th><th style='border: 1px solid #dddddd'>predictedLabel</th><th style='border: 1px solid #dddddd'>probability</th><th style='border: 1px solid #dddddd'>DRUG</th>\n",
       "                <tr><td style='border: 1px solid #dddddd'>4bc11a9fff1b486d2a70043d558da0fe-1</td><td style='border: 1px solid #dddddd'>2018-09-20 08:47:23.799000</td><td style='border: 1px solid #dddddd'>10e2f722-b2b2-4ece-89d4-b691c5ad0d04</td><td style='border: 1px solid #dddddd'>eeaa586e-19c8-45c5-9ef5-1847d09f3f53</td><td style='border: 1px solid #dddddd'>20</td><td style='border: 1px solid #dddddd'>F</td><td style='border: 1px solid #dddddd'>HIGH</td><td style='border: 1px solid #dddddd'>HIGH</td><td style='border: 1px solid #dddddd'>0.71</td><td style='border: 1px solid #dddddd'>0.07</td><td style='border: 1px solid #dddddd'>2.0</td><td style='border: 1px solid #dddddd'>drugA</td><td style='border: 1px solid #dddddd'>[0.0, 0.0, 1.0, 0.0, 0.0]</td><td style='border: 1px solid #dddddd'>drugY</td></tr><tr><td style='border: 1px solid #dddddd'>4bc11a9fff1b486d2a70043d558da0fe-2</td><td style='border: 1px solid #dddddd'>2018-09-20 08:47:23.799000</td><td style='border: 1px solid #dddddd'>10e2f722-b2b2-4ece-89d4-b691c5ad0d04</td><td style='border: 1px solid #dddddd'>eeaa586e-19c8-45c5-9ef5-1847d09f3f53</td><td style='border: 1px solid #dddddd'>55</td><td style='border: 1px solid #dddddd'>M</td><td style='border: 1px solid #dddddd'>LOW</td><td style='border: 1px solid #dddddd'>HIGH</td><td style='border: 1px solid #dddddd'>0.71</td><td style='border: 1px solid #dddddd'>0.07</td><td style='border: 1px solid #dddddd'>3.0</td><td style='border: 1px solid #dddddd'>drugC</td><td style='border: 1px solid #dddddd'>[0.0, 0.0, 0.0, 1.0, 0.0]</td><td style='border: 1px solid #dddddd'>drugY</td></tr><tr><td style='border: 1px solid #dddddd'>77089e45eedb88f85a9637ee8ab6c145-1</td><td style='border: 1px solid #dddddd'>2018-09-20 08:47:23.812000</td><td style='border: 1px solid #dddddd'>10e2f722-b2b2-4ece-89d4-b691c5ad0d04</td><td style='border: 1px solid #dddddd'>eeaa586e-19c8-45c5-9ef5-1847d09f3f53</td><td style='border: 1px solid #dddddd'>20</td><td style='border: 1px solid #dddddd'>F</td><td style='border: 1px solid #dddddd'>HIGH</td><td style='border: 1px solid #dddddd'>HIGH</td><td style='border: 1px solid #dddddd'>0.71</td><td style='border: 1px solid #dddddd'>0.07</td><td style='border: 1px solid #dddddd'>2.0</td><td style='border: 1px solid #dddddd'>drugA</td><td style='border: 1px solid #dddddd'>[0.0, 0.0, 1.0, 0.0, 0.0]</td><td style='border: 1px solid #dddddd'>drugY</td></tr><tr><td style='border: 1px solid #dddddd'>77089e45eedb88f85a9637ee8ab6c145-2</td><td style='border: 1px solid #dddddd'>2018-09-20 08:47:23.812000</td><td style='border: 1px solid #dddddd'>10e2f722-b2b2-4ece-89d4-b691c5ad0d04</td><td style='border: 1px solid #dddddd'>eeaa586e-19c8-45c5-9ef5-1847d09f3f53</td><td style='border: 1px solid #dddddd'>55</td><td style='border: 1px solid #dddddd'>M</td><td style='border: 1px solid #dddddd'>LOW</td><td style='border: 1px solid #dddddd'>HIGH</td><td style='border: 1px solid #dddddd'>0.71</td><td style='border: 1px solid #dddddd'>0.07</td><td style='border: 1px solid #dddddd'>3.0</td><td style='border: 1px solid #dddddd'>drugC</td><td style='border: 1px solid #dddddd'>[0.0, 0.0, 0.0, 1.0, 0.0]</td><td style='border: 1px solid #dddddd'>drugY</td></tr><tr><td style='border: 1px solid #dddddd'>7897bc8861fae2d6c13f595b5a6a7e80-1</td><td style='border: 1px solid #dddddd'>2018-09-20 08:47:23.878000</td><td style='border: 1px solid #dddddd'>10e2f722-b2b2-4ece-89d4-b691c5ad0d04</td><td style='border: 1px solid #dddddd'>eeaa586e-19c8-45c5-9ef5-1847d09f3f53</td><td style='border: 1px solid #dddddd'>20</td><td style='border: 1px solid #dddddd'>F</td><td style='border: 1px solid #dddddd'>HIGH</td><td style='border: 1px solid #dddddd'>HIGH</td><td style='border: 1px solid #dddddd'>0.71</td><td style='border: 1px solid #dddddd'>0.07</td><td style='border: 1px solid #dddddd'>2.0</td><td style='border: 1px solid #dddddd'>drugA</td><td style='border: 1px solid #dddddd'>[0.0, 0.0, 1.0, 0.0, 0.0]</td><td style='border: 1px solid #dddddd'>drugY</td></tr><tr><td style='border: 1px solid #dddddd'>7897bc8861fae2d6c13f595b5a6a7e80-2</td><td style='border: 1px solid #dddddd'>2018-09-20 08:47:23.878000</td><td style='border: 1px solid #dddddd'>10e2f722-b2b2-4ece-89d4-b691c5ad0d04</td><td style='border: 1px solid #dddddd'>eeaa586e-19c8-45c5-9ef5-1847d09f3f53</td><td style='border: 1px solid #dddddd'>55</td><td style='border: 1px solid #dddddd'>M</td><td style='border: 1px solid #dddddd'>LOW</td><td style='border: 1px solid #dddddd'>HIGH</td><td style='border: 1px solid #dddddd'>0.71</td><td style='border: 1px solid #dddddd'>0.07</td><td style='border: 1px solid #dddddd'>3.0</td><td style='border: 1px solid #dddddd'>drugC</td><td style='border: 1px solid #dddddd'>[0.0, 0.0, 0.0, 1.0, 0.0]</td><td style='border: 1px solid #dddddd'>drugY</td></tr><tr><td style='border: 1px solid #dddddd'>fa39458ef3127f7f596cfb23473eb1ce-1</td><td style='border: 1px solid #dddddd'>2018-09-20 08:47:23.942000</td><td style='border: 1px solid #dddddd'>10e2f722-b2b2-4ece-89d4-b691c5ad0d04</td><td style='border: 1px solid #dddddd'>eeaa586e-19c8-45c5-9ef5-1847d09f3f53</td><td style='border: 1px solid #dddddd'>20</td><td style='border: 1px solid #dddddd'>F</td><td style='border: 1px solid #dddddd'>HIGH</td><td style='border: 1px solid #dddddd'>HIGH</td><td style='border: 1px solid #dddddd'>0.71</td><td style='border: 1px solid #dddddd'>0.07</td><td style='border: 1px solid #dddddd'>2.0</td><td style='border: 1px solid #dddddd'>drugA</td><td style='border: 1px solid #dddddd'>[0.0, 0.0, 1.0, 0.0, 0.0]</td><td style='border: 1px solid #dddddd'>drugY</td></tr><tr><td style='border: 1px solid #dddddd'>fa39458ef3127f7f596cfb23473eb1ce-2</td><td style='border: 1px solid #dddddd'>2018-09-20 08:47:23.942000</td><td style='border: 1px solid #dddddd'>10e2f722-b2b2-4ece-89d4-b691c5ad0d04</td><td style='border: 1px solid #dddddd'>eeaa586e-19c8-45c5-9ef5-1847d09f3f53</td><td style='border: 1px solid #dddddd'>55</td><td style='border: 1px solid #dddddd'>M</td><td style='border: 1px solid #dddddd'>LOW</td><td style='border: 1px solid #dddddd'>HIGH</td><td style='border: 1px solid #dddddd'>0.71</td><td style='border: 1px solid #dddddd'>0.07</td><td style='border: 1px solid #dddddd'>3.0</td><td style='border: 1px solid #dddddd'>drugC</td><td style='border: 1px solid #dddddd'>[0.0, 0.0, 0.0, 1.0, 0.0]</td><td style='border: 1px solid #dddddd'>drugY</td></tr><tr><td style='border: 1px solid #dddddd'>f9024821356b72d13c5c26564c3f837e-1</td><td style='border: 1px solid #dddddd'>2018-09-20 08:47:23.763000</td><td style='border: 1px solid #dddddd'>10e2f722-b2b2-4ece-89d4-b691c5ad0d04</td><td style='border: 1px solid #dddddd'>eeaa586e-19c8-45c5-9ef5-1847d09f3f53</td><td style='border: 1px solid #dddddd'>20</td><td style='border: 1px solid #dddddd'>F</td><td style='border: 1px solid #dddddd'>HIGH</td><td style='border: 1px solid #dddddd'>HIGH</td><td style='border: 1px solid #dddddd'>0.71</td><td style='border: 1px solid #dddddd'>0.07</td><td style='border: 1px solid #dddddd'>2.0</td><td style='border: 1px solid #dddddd'>drugA</td><td style='border: 1px solid #dddddd'>[0.0, 0.0, 1.0, 0.0, 0.0]</td><td style='border: 1px solid #dddddd'>drugY</td></tr><tr><td style='border: 1px solid #dddddd'>f9024821356b72d13c5c26564c3f837e-2</td><td style='border: 1px solid #dddddd'>2018-09-20 08:47:23.763000</td><td style='border: 1px solid #dddddd'>10e2f722-b2b2-4ece-89d4-b691c5ad0d04</td><td style='border: 1px solid #dddddd'>eeaa586e-19c8-45c5-9ef5-1847d09f3f53</td><td style='border: 1px solid #dddddd'>55</td><td style='border: 1px solid #dddddd'>M</td><td style='border: 1px solid #dddddd'>LOW</td><td style='border: 1px solid #dddddd'>HIGH</td><td style='border: 1px solid #dddddd'>0.71</td><td style='border: 1px solid #dddddd'>0.07</td><td style='border: 1px solid #dddddd'>3.0</td><td style='border: 1px solid #dddddd'>drugC</td><td style='border: 1px solid #dddddd'>[0.0, 0.0, 0.0, 1.0, 0.0]</td><td style='border: 1px solid #dddddd'>drugY</td></tr>\n",
       "            </table>\n",
       "        </body>\n",
       "        </HTML>"
      ],
      "text/plain": [
       "<IPython.core.display.HTML object>"
      ]
     },
     "metadata": {},
     "output_type": "display_data"
    },
    {
     "name": "stdout",
     "output_type": "stream",
     "text": [
      "Note: First 10 records were displayed.\n"
     ]
    }
   ],
   "source": [
    "subscription.payload_logging.show_table()"
   ]
  },
  {
   "cell_type": "code",
   "execution_count": 16,
   "metadata": {},
   "outputs": [
    {
     "data": {
      "text/html": [
       "<HTML>\n",
       "        <body>\n",
       "            <h3>PerformanceMetrics (binding_id=e30fe554-6e3e-4e0e-af06-90f93686f358, subscription_id=e660f8ea-fb82-4f3e-9475-9817612abc2b)</h3>\n",
       "            <table style='border: 1px solid #dddddd; font-family: Courier'>\n",
       "                <th style='border: 1px solid #dddddd'>ts</th><th style='border: 1px solid #dddddd'>response_time</th><th style='border: 1px solid #dddddd'>records</th><th style='border: 1px solid #dddddd'>binding_id</th><th style='border: 1px solid #dddddd'>subscription_id</th><th style='border: 1px solid #dddddd'>deployment_id</th><th style='border: 1px solid #dddddd'>process</th>\n",
       "                <tr><td style='border: 1px solid #dddddd'>2018-09-20 08:47:23.838000</td><td style='border: 1px solid #dddddd'>24.0</td><td style='border: 1px solid #dddddd'>48</td><td style='border: 1px solid #dddddd'>e30fe554-6e3e-4e0e-af06-90f93686f358</td><td style='border: 1px solid #dddddd'>e660f8ea-fb82-4f3e-9475-9817612abc2b</td><td style='border: 1px solid #dddddd'>10e2f722-b2b2-4ece-89d4-b691c5ad0d04</td><td style='border: 1px solid #dddddd'>None</td></tr><tr><td style='border: 1px solid #dddddd'>2018-09-20 08:47:23.811000</td><td style='border: 1px solid #dddddd'>25.0</td><td style='border: 1px solid #dddddd'>50</td><td style='border: 1px solid #dddddd'>e30fe554-6e3e-4e0e-af06-90f93686f358</td><td style='border: 1px solid #dddddd'>e660f8ea-fb82-4f3e-9475-9817612abc2b</td><td style='border: 1px solid #dddddd'>10e2f722-b2b2-4ece-89d4-b691c5ad0d04</td><td style='border: 1px solid #dddddd'>None</td></tr><tr><td style='border: 1px solid #dddddd'>2018-09-20 08:47:23.798000</td><td style='border: 1px solid #dddddd'>25.0</td><td style='border: 1px solid #dddddd'>50</td><td style='border: 1px solid #dddddd'>e30fe554-6e3e-4e0e-af06-90f93686f358</td><td style='border: 1px solid #dddddd'>e660f8ea-fb82-4f3e-9475-9817612abc2b</td><td style='border: 1px solid #dddddd'>10e2f722-b2b2-4ece-89d4-b691c5ad0d04</td><td style='border: 1px solid #dddddd'>None</td></tr><tr><td style='border: 1px solid #dddddd'>2018-09-20 08:47:23.762000</td><td style='border: 1px solid #dddddd'>25.0</td><td style='border: 1px solid #dddddd'>50</td><td style='border: 1px solid #dddddd'>e30fe554-6e3e-4e0e-af06-90f93686f358</td><td style='border: 1px solid #dddddd'>e660f8ea-fb82-4f3e-9475-9817612abc2b</td><td style='border: 1px solid #dddddd'>10e2f722-b2b2-4ece-89d4-b691c5ad0d04</td><td style='border: 1px solid #dddddd'>None</td></tr>\n",
       "            </table>\n",
       "        </body>\n",
       "        </HTML>"
      ],
      "text/plain": [
       "<IPython.core.display.HTML object>"
      ]
     },
     "metadata": {},
     "output_type": "display_data"
    }
   ],
   "source": [
    "subscription.performance_monitoring.show_table()"
   ]
  },
  {
   "cell_type": "code",
   "execution_count": 17,
   "metadata": {},
   "outputs": [
    {
     "data": {
      "text/html": [
       "<HTML>\n",
       "        <body>\n",
       "            <h3>QualityMetrics (binding_id=e30fe554-6e3e-4e0e-af06-90f93686f358, subscription_id=e660f8ea-fb82-4f3e-9475-9817612abc2b)</h3>\n",
       "            <table style='border: 1px solid #dddddd; font-family: Courier'>\n",
       "                <th style='border: 1px solid #dddddd'>ts</th><th style='border: 1px solid #dddddd'>quality</th><th style='border: 1px solid #dddddd'>threshold</th><th style='border: 1px solid #dddddd'>binding_id</th><th style='border: 1px solid #dddddd'>subscription_id</th><th style='border: 1px solid #dddddd'>deployment_id</th><th style='border: 1px solid #dddddd'>process</th><th style='border: 1px solid #dddddd'>asset_revision</th>\n",
       "                <tr><td style='border: 1px solid #dddddd'>2018-09-20 09:32:24.800000</td><td style='border: 1px solid #dddddd'>0.8242209805041195</td><td style='border: 1px solid #dddddd'>0.8</td><td style='border: 1px solid #dddddd'>e30fe554-6e3e-4e0e-af06-90f93686f358</td><td style='border: 1px solid #dddddd'>e660f8ea-fb82-4f3e-9475-9817612abc2b</td><td style='border: 1px solid #dddddd'>None</td><td style='border: 1px solid #dddddd'>learning iteration [157898df-75c3-4dcc-99f4-849137360949]</td><td style='border: 1px solid #dddddd'>eeaa586e-19c8-45c5-9ef5-1847d09f3f53</td></tr><tr><td style='border: 1px solid #dddddd'>2018-09-20 09:32:01.846000</td><td style='border: 1px solid #dddddd'>0.25</td><td style='border: 1px solid #dddddd'>0.8</td><td style='border: 1px solid #dddddd'>e30fe554-6e3e-4e0e-af06-90f93686f358</td><td style='border: 1px solid #dddddd'>e660f8ea-fb82-4f3e-9475-9817612abc2b</td><td style='border: 1px solid #dddddd'>None</td><td style='border: 1px solid #dddddd'>learning iteration [157898df-75c3-4dcc-99f4-849137360949]</td><td style='border: 1px solid #dddddd'>eeaa586e-19c8-45c5-9ef5-1847d09f3f53</td></tr>\n",
       "            </table>\n",
       "        </body>\n",
       "        </HTML>"
      ],
      "text/plain": [
       "<IPython.core.display.HTML object>"
      ]
     },
     "metadata": {},
     "output_type": "display_data"
    }
   ],
   "source": [
    "subscription.quality_monitoring.show_table()"
   ]
  },
  {
   "cell_type": "markdown",
   "metadata": {},
   "source": [
    "#### Describe table (basic stats on table)"
   ]
  },
  {
   "cell_type": "code",
   "execution_count": 18,
   "metadata": {},
   "outputs": [
    {
     "name": "stdout",
     "output_type": "stream",
     "text": [
      "             AGE  prediction\n",
      "count  198.00000  198.000000\n",
      "mean    37.50000    2.500000\n",
      "std     17.54436    0.501267\n",
      "min     20.00000    2.000000\n",
      "25%     20.00000    2.000000\n",
      "50%     37.50000    2.500000\n",
      "75%     55.00000    3.000000\n",
      "max     55.00000    3.000000\n"
     ]
    }
   ],
   "source": [
    "subscription.payload_logging.describe_table()"
   ]
  },
  {
   "cell_type": "markdown",
   "metadata": {},
   "source": [
    "#### Return table content as pandas dataframe"
   ]
  },
  {
   "cell_type": "code",
   "execution_count": 121,
   "metadata": {},
   "outputs": [],
   "source": [
    "pandas_df = subscription.payload_logging.get_table_content(format='pandas')"
   ]
  },
  {
   "cell_type": "code",
   "execution_count": 122,
   "metadata": {},
   "outputs": [
    {
     "data": {
      "text/plain": [
       "<matplotlib.axes._subplots.AxesSubplot at 0x7f91e7942400>"
      ]
     },
     "execution_count": 122,
     "metadata": {},
     "output_type": "execute_result"
    },
    {
     "data": {
      "image/png": "[encoded data removed]",
      "text/plain": [
       "<matplotlib.figure.Figure at 0x7f91f6dc28d0>"
      ]
     },
     "metadata": {},
     "output_type": "display_data"
    }
   ],
   "source": [
    "%matplotlib inline\n",
    "\n",
    "pandas_df.boxplot()"
   ]
  },
  {
   "cell_type": "markdown",
   "metadata": {},
   "source": [
    "### 5.2 Accessing data mart metrics\n",
    "- performance\n",
    "- quality\n",
    "- fairness"
   ]
  },
  {
   "cell_type": "markdown",
   "metadata": {},
   "source": [
    "Get all metrics."
   ]
  },
  {
   "cell_type": "code",
   "execution_count": 19,
   "metadata": {},
   "outputs": [
    {
     "data": {
      "text/plain": [
       "{'deployment_metrics': [{'asset': {'asset_id': 'b61e1c6a-9f24-4011-8f63-bc9bc115de17',\n",
       "    'asset_type': 'model',\n",
       "    'created_at': '2018-09-20T08:12:15.741Z',\n",
       "    'name': 'product-line-prediction',\n",
       "    'url': 'https://us-south.ml.cloud.ibm.com/v3/wml_instances/e30fe554-6e3e-4e0e-af06-90f93686f358/published_models/b61e1c6a-9f24-4011-8f63-bc9bc115de17'},\n",
       "   'deployment': {'created_at': '2018-09-20T08:12:33.616Z',\n",
       "    'deployment_id': 'a65b7a1c-3563-4748-a05d-9fbddb2f1c0c',\n",
       "    'name': 'product line deployment',\n",
       "    'url': 'https://us-south.ml.cloud.ibm.com/v3/wml_instances/e30fe554-6e3e-4e0e-af06-90f93686f358/deployments/a65b7a1c-3563-4748-a05d-9fbddb2f1c0c'},\n",
       "   'metrics': [{'issues': 0,\n",
       "     'metric_type': 'performance',\n",
       "     'timestamp': '2018-09-20T08:47:28.102Z',\n",
       "     'value': {'records': 96, 'response_time': 24.0}}],\n",
       "   'subscription': {'subscription_id': 'b61e1c6a-9f24-4011-8f63-bc9bc115de17',\n",
       "    'url': '/v1/data_marts/bc7b716c-9a22-4841-8221-fa28f565520d/subscriptions/b61e1c6a-9f24-4011-8f63-bc9bc115de17'}},\n",
       "  {'asset': {'asset_id': 'e660f8ea-fb82-4f3e-9475-9817612abc2b',\n",
       "    'asset_type': 'model',\n",
       "    'created_at': '2018-09-20T08:13:57.668Z',\n",
       "    'name': 'drug-selection',\n",
       "    'url': 'https://us-south.ml.cloud.ibm.com/v3/wml_instances/e30fe554-6e3e-4e0e-af06-90f93686f358/published_models/e660f8ea-fb82-4f3e-9475-9817612abc2b'},\n",
       "   'deployment': {'created_at': '2018-09-20T08:14:17.933Z',\n",
       "    'deployment_id': '10e2f722-b2b2-4ece-89d4-b691c5ad0d04',\n",
       "    'name': 'drug-selection deployment',\n",
       "    'url': 'https://us-south.ml.cloud.ibm.com/v3/wml_instances/e30fe554-6e3e-4e0e-af06-90f93686f358/deployments/10e2f722-b2b2-4ece-89d4-b691c5ad0d04'},\n",
       "   'metrics': [{'issues': 0,\n",
       "     'metric_type': 'performance',\n",
       "     'timestamp': '2018-09-20T08:47:23.838Z',\n",
       "     'value': {'records': 48, 'response_time': 24.0}},\n",
       "    {'issues': 0,\n",
       "     'metric_type': 'quality',\n",
       "     'timestamp': '2018-09-20T09:32:24.800Z',\n",
       "     'value': {'metrics': [{'name': 'weightedFMeasure',\n",
       "        'value': 0.8232858700664133},\n",
       "       {'name': 'accuracy', 'threshold': 0.8, 'value': 0.8242209805041195},\n",
       "       {'name': 'weightedTruePositiveRate', 'value': 0.8242209805041195},\n",
       "       {'name': 'weightedRecall', 'value': 0.8242209805041195},\n",
       "       {'name': 'weightedFalsePositiveRate', 'value': 0.06778236823151411},\n",
       "       {'name': 'weightedPrecision', 'value': 0.8370737843849289}],\n",
       "      'phase': 'training',\n",
       "      'quality': 0.8242209805041195,\n",
       "      'threshold': 0.8}}],\n",
       "   'subscription': {'subscription_id': 'e660f8ea-fb82-4f3e-9475-9817612abc2b',\n",
       "    'url': '/v1/data_marts/bc7b716c-9a22-4841-8221-fa28f565520d/subscriptions/e660f8ea-fb82-4f3e-9475-9817612abc2b'}}]}"
      ]
     },
     "execution_count": 19,
     "metadata": {},
     "output_type": "execute_result"
    }
   ],
   "source": [
    "client.data_mart.get_deployment_metrics()"
   ]
  },
  {
   "cell_type": "markdown",
   "metadata": {},
   "source": [
    "Get metric for particular deployment."
   ]
  },
  {
   "cell_type": "code",
   "execution_count": 25,
   "metadata": {},
   "outputs": [
    {
     "data": {
      "text/plain": [
       "{'end': '2018-09-20T11:16:41.785491Z',\n",
       " 'metrics': [{'asset_revision': 'eeaa586e-19c8-45c5-9ef5-1847d09f3f53',\n",
       "   'process': 'learning iteration [157898df-75c3-4dcc-99f4-849137360949]',\n",
       "   'timestamp': '2018-09-20T09:32:01.846Z',\n",
       "   'value': {'metrics': [{'name': 'weightedTruePositiveRate', 'value': 0.25},\n",
       "     {'name': 'accuracy', 'threshold': 0.8, 'value': 0.25},\n",
       "     {'name': 'weightedFMeasure', 'value': 0.4000000000000001},\n",
       "     {'name': 'weightedRecall', 'value': 0.25},\n",
       "     {'name': 'weightedPrecision', 'value': 1.0}],\n",
       "    'phase': 'monitoring',\n",
       "    'quality': 0.25,\n",
       "    'threshold': 0.8}},\n",
       "  {'asset_revision': 'eeaa586e-19c8-45c5-9ef5-1847d09f3f53',\n",
       "   'process': 'learning iteration [157898df-75c3-4dcc-99f4-849137360949]',\n",
       "   'timestamp': '2018-09-20T09:32:24.800Z',\n",
       "   'value': {'metrics': [{'name': 'weightedFMeasure',\n",
       "      'value': 0.8232858700664133},\n",
       "     {'name': 'accuracy', 'threshold': 0.8, 'value': 0.8242209805041195},\n",
       "     {'name': 'weightedTruePositiveRate', 'value': 0.8242209805041195},\n",
       "     {'name': 'weightedRecall', 'value': 0.8242209805041195},\n",
       "     {'name': 'weightedFalsePositiveRate', 'value': 0.06778236823151411},\n",
       "     {'name': 'weightedPrecision', 'value': 0.8370737843849289}],\n",
       "    'phase': 'training',\n",
       "    'quality': 0.8242209805041195,\n",
       "    'threshold': 0.8}}],\n",
       " 'start': '2018-09-20T02:22:50.786Z'}"
      ]
     },
     "execution_count": 25,
     "metadata": {},
     "output_type": "execute_result"
    }
   ],
   "source": [
    "subscription.quality_monitoring.get_metrics(deployment_uid=subscription.get_deployment_uids()[0])"
   ]
  },
  {
   "cell_type": "markdown",
   "metadata": {},
   "source": [
    "<a id=\"setup\"></a>\n",
    "## 6. Visualization"
   ]
  },
  {
   "cell_type": "markdown",
   "metadata": {},
   "source": [
    "Get the performance metrics as pandas dataframe."
   ]
  },
  {
   "cell_type": "code",
   "execution_count": 104,
   "metadata": {},
   "outputs": [],
   "source": [
    "performance_pdf = subscription.performance_monitoring.get_table_content()"
   ]
  },
  {
   "cell_type": "markdown",
   "metadata": {},
   "source": [
    "Let's enrich our data by calculating additional metric: `throughput`"
   ]
  },
  {
   "cell_type": "code",
   "execution_count": 118,
   "metadata": {},
   "outputs": [],
   "source": [
    "performance_pdf['throughput'] = performance_pdf.apply(lambda row: float((row.records/row.response_time)*1000) ,axis=1)"
   ]
  },
  {
   "cell_type": "code",
   "execution_count": 119,
   "metadata": {},
   "outputs": [
    {
     "data": {
      "text/html": [
       "<div>\n",
       "<style scoped>\n",
       "    .dataframe tbody tr th:only-of-type {\n",
       "        vertical-align: middle;\n",
       "    }\n",
       "\n",
       "    .dataframe tbody tr th {\n",
       "        vertical-align: top;\n",
       "    }\n",
       "\n",
       "    .dataframe thead th {\n",
       "        text-align: right;\n",
       "    }\n",
       "</style>\n",
       "<table border=\"1\" class=\"dataframe\">\n",
       "  <thead>\n",
       "    <tr style=\"text-align: right;\">\n",
       "      <th></th>\n",
       "      <th>ts</th>\n",
       "      <th>response_time</th>\n",
       "      <th>records</th>\n",
       "      <th>binding_id</th>\n",
       "      <th>subscription_id</th>\n",
       "      <th>deployment_id</th>\n",
       "      <th>process</th>\n",
       "      <th>throughput</th>\n",
       "    </tr>\n",
       "  </thead>\n",
       "  <tbody>\n",
       "    <tr>\n",
       "      <th>0</th>\n",
       "      <td>2018-09-20 12:03:17.870</td>\n",
       "      <td>90.0</td>\n",
       "      <td>180</td>\n",
       "      <td>e30fe554-6e3e-4e0e-af06-90f93686f358</td>\n",
       "      <td>e660f8ea-fb82-4f3e-9475-9817612abc2b</td>\n",
       "      <td>10e2f722-b2b2-4ece-89d4-b691c5ad0d04</td>\n",
       "      <td>None</td>\n",
       "      <td>2000.000000</td>\n",
       "    </tr>\n",
       "    <tr>\n",
       "      <th>1</th>\n",
       "      <td>2018-09-20 12:03:17.857</td>\n",
       "      <td>88.0</td>\n",
       "      <td>176</td>\n",
       "      <td>e30fe554-6e3e-4e0e-af06-90f93686f358</td>\n",
       "      <td>e660f8ea-fb82-4f3e-9475-9817612abc2b</td>\n",
       "      <td>10e2f722-b2b2-4ece-89d4-b691c5ad0d04</td>\n",
       "      <td>None</td>\n",
       "      <td>2000.000000</td>\n",
       "    </tr>\n",
       "    <tr>\n",
       "      <th>2</th>\n",
       "      <td>2018-09-20 12:03:17.844</td>\n",
       "      <td>89.0</td>\n",
       "      <td>178</td>\n",
       "      <td>e30fe554-6e3e-4e0e-af06-90f93686f358</td>\n",
       "      <td>e660f8ea-fb82-4f3e-9475-9817612abc2b</td>\n",
       "      <td>10e2f722-b2b2-4ece-89d4-b691c5ad0d04</td>\n",
       "      <td>None</td>\n",
       "      <td>2000.000000</td>\n",
       "    </tr>\n",
       "    <tr>\n",
       "      <th>3</th>\n",
       "      <td>2018-09-20 12:03:17.817</td>\n",
       "      <td>90.0</td>\n",
       "      <td>180</td>\n",
       "      <td>e30fe554-6e3e-4e0e-af06-90f93686f358</td>\n",
       "      <td>e660f8ea-fb82-4f3e-9475-9817612abc2b</td>\n",
       "      <td>10e2f722-b2b2-4ece-89d4-b691c5ad0d04</td>\n",
       "      <td>None</td>\n",
       "      <td>2000.000000</td>\n",
       "    </tr>\n",
       "    <tr>\n",
       "      <th>4</th>\n",
       "      <td>2018-09-20 11:28:54.529</td>\n",
       "      <td>101.0</td>\n",
       "      <td>198</td>\n",
       "      <td>e30fe554-6e3e-4e0e-af06-90f93686f358</td>\n",
       "      <td>e660f8ea-fb82-4f3e-9475-9817612abc2b</td>\n",
       "      <td>10e2f722-b2b2-4ece-89d4-b691c5ad0d04</td>\n",
       "      <td>None</td>\n",
       "      <td>1960.396040</td>\n",
       "    </tr>\n",
       "    <tr>\n",
       "      <th>5</th>\n",
       "      <td>2018-09-20 11:28:54.514</td>\n",
       "      <td>99.0</td>\n",
       "      <td>198</td>\n",
       "      <td>e30fe554-6e3e-4e0e-af06-90f93686f358</td>\n",
       "      <td>e660f8ea-fb82-4f3e-9475-9817612abc2b</td>\n",
       "      <td>10e2f722-b2b2-4ece-89d4-b691c5ad0d04</td>\n",
       "      <td>None</td>\n",
       "      <td>2000.000000</td>\n",
       "    </tr>\n",
       "    <tr>\n",
       "      <th>6</th>\n",
       "      <td>2018-09-20 11:28:54.461</td>\n",
       "      <td>99.0</td>\n",
       "      <td>198</td>\n",
       "      <td>e30fe554-6e3e-4e0e-af06-90f93686f358</td>\n",
       "      <td>e660f8ea-fb82-4f3e-9475-9817612abc2b</td>\n",
       "      <td>10e2f722-b2b2-4ece-89d4-b691c5ad0d04</td>\n",
       "      <td>None</td>\n",
       "      <td>2000.000000</td>\n",
       "    </tr>\n",
       "    <tr>\n",
       "      <th>7</th>\n",
       "      <td>2018-09-20 11:28:54.426</td>\n",
       "      <td>106.0</td>\n",
       "      <td>198</td>\n",
       "      <td>e30fe554-6e3e-4e0e-af06-90f93686f358</td>\n",
       "      <td>e660f8ea-fb82-4f3e-9475-9817612abc2b</td>\n",
       "      <td>10e2f722-b2b2-4ece-89d4-b691c5ad0d04</td>\n",
       "      <td>None</td>\n",
       "      <td>1867.924528</td>\n",
       "    </tr>\n",
       "    <tr>\n",
       "      <th>8</th>\n",
       "      <td>2018-09-20 08:47:23.838</td>\n",
       "      <td>24.0</td>\n",
       "      <td>48</td>\n",
       "      <td>e30fe554-6e3e-4e0e-af06-90f93686f358</td>\n",
       "      <td>e660f8ea-fb82-4f3e-9475-9817612abc2b</td>\n",
       "      <td>10e2f722-b2b2-4ece-89d4-b691c5ad0d04</td>\n",
       "      <td>None</td>\n",
       "      <td>2000.000000</td>\n",
       "    </tr>\n",
       "    <tr>\n",
       "      <th>9</th>\n",
       "      <td>2018-09-20 08:47:23.811</td>\n",
       "      <td>25.0</td>\n",
       "      <td>50</td>\n",
       "      <td>e30fe554-6e3e-4e0e-af06-90f93686f358</td>\n",
       "      <td>e660f8ea-fb82-4f3e-9475-9817612abc2b</td>\n",
       "      <td>10e2f722-b2b2-4ece-89d4-b691c5ad0d04</td>\n",
       "      <td>None</td>\n",
       "      <td>2000.000000</td>\n",
       "    </tr>\n",
       "    <tr>\n",
       "      <th>10</th>\n",
       "      <td>2018-09-20 08:47:23.798</td>\n",
       "      <td>25.0</td>\n",
       "      <td>50</td>\n",
       "      <td>e30fe554-6e3e-4e0e-af06-90f93686f358</td>\n",
       "      <td>e660f8ea-fb82-4f3e-9475-9817612abc2b</td>\n",
       "      <td>10e2f722-b2b2-4ece-89d4-b691c5ad0d04</td>\n",
       "      <td>None</td>\n",
       "      <td>2000.000000</td>\n",
       "    </tr>\n",
       "    <tr>\n",
       "      <th>11</th>\n",
       "      <td>2018-09-20 08:47:23.762</td>\n",
       "      <td>25.0</td>\n",
       "      <td>50</td>\n",
       "      <td>e30fe554-6e3e-4e0e-af06-90f93686f358</td>\n",
       "      <td>e660f8ea-fb82-4f3e-9475-9817612abc2b</td>\n",
       "      <td>10e2f722-b2b2-4ece-89d4-b691c5ad0d04</td>\n",
       "      <td>None</td>\n",
       "      <td>2000.000000</td>\n",
       "    </tr>\n",
       "  </tbody>\n",
       "</table>\n",
       "</div>"
      ],
      "text/plain": [
       "                        ts response_time records  \\\n",
       "0  2018-09-20 12:03:17.870          90.0     180   \n",
       "1  2018-09-20 12:03:17.857          88.0     176   \n",
       "2  2018-09-20 12:03:17.844          89.0     178   \n",
       "3  2018-09-20 12:03:17.817          90.0     180   \n",
       "4  2018-09-20 11:28:54.529         101.0     198   \n",
       "5  2018-09-20 11:28:54.514          99.0     198   \n",
       "6  2018-09-20 11:28:54.461          99.0     198   \n",
       "7  2018-09-20 11:28:54.426         106.0     198   \n",
       "8  2018-09-20 08:47:23.838          24.0      48   \n",
       "9  2018-09-20 08:47:23.811          25.0      50   \n",
       "10 2018-09-20 08:47:23.798          25.0      50   \n",
       "11 2018-09-20 08:47:23.762          25.0      50   \n",
       "\n",
       "                              binding_id  \\\n",
       "0   e30fe554-6e3e-4e0e-af06-90f93686f358   \n",
       "1   e30fe554-6e3e-4e0e-af06-90f93686f358   \n",
       "2   e30fe554-6e3e-4e0e-af06-90f93686f358   \n",
       "3   e30fe554-6e3e-4e0e-af06-90f93686f358   \n",
       "4   e30fe554-6e3e-4e0e-af06-90f93686f358   \n",
       "5   e30fe554-6e3e-4e0e-af06-90f93686f358   \n",
       "6   e30fe554-6e3e-4e0e-af06-90f93686f358   \n",
       "7   e30fe554-6e3e-4e0e-af06-90f93686f358   \n",
       "8   e30fe554-6e3e-4e0e-af06-90f93686f358   \n",
       "9   e30fe554-6e3e-4e0e-af06-90f93686f358   \n",
       "10  e30fe554-6e3e-4e0e-af06-90f93686f358   \n",
       "11  e30fe554-6e3e-4e0e-af06-90f93686f358   \n",
       "\n",
       "                         subscription_id  \\\n",
       "0   e660f8ea-fb82-4f3e-9475-9817612abc2b   \n",
       "1   e660f8ea-fb82-4f3e-9475-9817612abc2b   \n",
       "2   e660f8ea-fb82-4f3e-9475-9817612abc2b   \n",
       "3   e660f8ea-fb82-4f3e-9475-9817612abc2b   \n",
       "4   e660f8ea-fb82-4f3e-9475-9817612abc2b   \n",
       "5   e660f8ea-fb82-4f3e-9475-9817612abc2b   \n",
       "6   e660f8ea-fb82-4f3e-9475-9817612abc2b   \n",
       "7   e660f8ea-fb82-4f3e-9475-9817612abc2b   \n",
       "8   e660f8ea-fb82-4f3e-9475-9817612abc2b   \n",
       "9   e660f8ea-fb82-4f3e-9475-9817612abc2b   \n",
       "10  e660f8ea-fb82-4f3e-9475-9817612abc2b   \n",
       "11  e660f8ea-fb82-4f3e-9475-9817612abc2b   \n",
       "\n",
       "                           deployment_id process   throughput  \n",
       "0   10e2f722-b2b2-4ece-89d4-b691c5ad0d04    None  2000.000000  \n",
       "1   10e2f722-b2b2-4ece-89d4-b691c5ad0d04    None  2000.000000  \n",
       "2   10e2f722-b2b2-4ece-89d4-b691c5ad0d04    None  2000.000000  \n",
       "3   10e2f722-b2b2-4ece-89d4-b691c5ad0d04    None  2000.000000  \n",
       "4   10e2f722-b2b2-4ece-89d4-b691c5ad0d04    None  1960.396040  \n",
       "5   10e2f722-b2b2-4ece-89d4-b691c5ad0d04    None  2000.000000  \n",
       "6   10e2f722-b2b2-4ece-89d4-b691c5ad0d04    None  2000.000000  \n",
       "7   10e2f722-b2b2-4ece-89d4-b691c5ad0d04    None  1867.924528  \n",
       "8   10e2f722-b2b2-4ece-89d4-b691c5ad0d04    None  2000.000000  \n",
       "9   10e2f722-b2b2-4ece-89d4-b691c5ad0d04    None  2000.000000  \n",
       "10  10e2f722-b2b2-4ece-89d4-b691c5ad0d04    None  2000.000000  \n",
       "11  10e2f722-b2b2-4ece-89d4-b691c5ad0d04    None  2000.000000  "
      ]
     },
     "execution_count": 119,
     "metadata": {},
     "output_type": "execute_result"
    }
   ],
   "source": [
    "performance_pdf"
   ]
  },
  {
   "cell_type": "markdown",
   "metadata": {},
   "source": [
    "Let's plot `throughput` over time."
   ]
  },
  {
   "cell_type": "code",
   "execution_count": 127,
   "metadata": {},
   "outputs": [
    {
     "data": {
      "image/png": "[encoded data removed]",
      "text/plain": [
       "<matplotlib.figure.Figure at 0x7f91e7759780>"
      ]
     },
     "metadata": {},
     "output_type": "display_data"
    }
   ],
   "source": [
    "performance_pdf.plot.line(y='throughput', title='Throughput (number of scored records per second)');"
   ]
  },
  {
   "cell_type": "markdown",
   "metadata": {},
   "source": [
    "---"
   ]
  },
  {
   "cell_type": "markdown",
   "metadata": {},
   "source": [
    "### Authors\n",
    "Lukasz Cmielowski, PhD, is an Automation Architect and Data Scientist at IBM with a track record of developing enterprise-level applications that substantially increases clients' ability to turn data into actionable knowledge."
   ]
  }
 ],
 "metadata": {
  "kernelspec": {
   "display_name": "Python 3",
   "language": "python",
   "name": "python3"
  },
  "language_info": {
   "codemirror_mode": {
    "name": "ipython",
    "version": 3
   },
   "file_extension": ".py",
   "mimetype": "text/x-python",
   "name": "python",
   "nbconvert_exporter": "python",
   "pygments_lexer": "ipython3",
   "version": "3.5.5"
  }
 },
 "nbformat": 4,
 "nbformat_minor": 1
}
